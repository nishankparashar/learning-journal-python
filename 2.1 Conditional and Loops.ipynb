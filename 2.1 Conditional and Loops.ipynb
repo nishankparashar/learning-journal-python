{
 "cells": [
  {
   "cell_type": "markdown",
   "id": "c86c9b91",
   "metadata": {},
   "source": [
    "### Boolean"
   ]
  },
  {
   "cell_type": "code",
   "execution_count": 1,
   "id": "38c5d52e",
   "metadata": {},
   "outputs": [
    {
     "name": "stdout",
     "output_type": "stream",
     "text": [
      "<class 'bool'>\n",
      "<class 'bool'>\n"
     ]
    }
   ],
   "source": [
    "a = True\n",
    "b = False\n",
    "\n",
    "print(type(a))\n",
    "print(type(b))"
   ]
  },
  {
   "cell_type": "markdown",
   "id": "ac7e48b1",
   "metadata": {},
   "source": [
    "### Relational Operators"
   ]
  },
  {
   "cell_type": "code",
   "execution_count": 6,
   "id": "37cf13cb",
   "metadata": {},
   "outputs": [
    {
     "name": "stdout",
     "output_type": "stream",
     "text": [
      "False\n",
      "True\n",
      "False\n",
      "True\n",
      "False\n",
      "True\n"
     ]
    }
   ],
   "source": [
    "a = 10\n",
    "b = 20\n",
    "\n",
    "print(a > b) # greater than\n",
    "print(a < b) # less than\n",
    "print(a >= b) # greater than or equal to\n",
    "print(a <= b) # less than or equal to\n",
    "print(a == b) # equals to\n",
    "print(a != b) # not equals to"
   ]
  },
  {
   "cell_type": "markdown",
   "id": "fdced7a6",
   "metadata": {},
   "source": [
    "### Logical Operators"
   ]
  },
  {
   "cell_type": "code",
   "execution_count": 7,
   "id": "0e4d8bc4",
   "metadata": {},
   "outputs": [
    {
     "name": "stdout",
     "output_type": "stream",
     "text": [
      "False\n",
      "True\n",
      "True\n"
     ]
    }
   ],
   "source": [
    "c1 = a > 10\n",
    "c2 = b > 10\n",
    "\n",
    "r1 = c1 and c2 # and\n",
    "print(r1)\n",
    "\n",
    "r2 = c1 or c2 # or\n",
    "print(r2)\n",
    "\n",
    "r3 = not c1 # not\n",
    "print(r3)"
   ]
  },
  {
   "cell_type": "markdown",
   "id": "c456c922",
   "metadata": {},
   "source": [
    "### IF-ELSE"
   ]
  },
  {
   "cell_type": "code",
   "execution_count": 8,
   "id": "1c6b2dd3",
   "metadata": {},
   "outputs": [
    {
     "name": "stdout",
     "output_type": "stream",
     "text": [
      "Inside the If Block\n"
     ]
    }
   ],
   "source": [
    "a = True\n",
    "\n",
    "if a:\n",
    "    print(\"Inside the If Block\")\n",
    "else:\n",
    "    print(\"Inside the Else Block\")"
   ]
  },
  {
   "cell_type": "code",
   "execution_count": 10,
   "id": "fb96691b",
   "metadata": {},
   "outputs": [
    {
     "name": "stdout",
     "output_type": "stream",
     "text": [
      "Enter a Number = 7\n",
      "Number is Odd\n"
     ]
    }
   ],
   "source": [
    "# check if number is even or odd\n",
    "\n",
    "n = int(input(\"Enter a Number = \"))\n",
    "\n",
    "if n % 2 == 0:\n",
    "    print(\"Number is Even\")\n",
    "else:\n",
    "    print(\"Number is Odd\")"
   ]
  },
  {
   "cell_type": "code",
   "execution_count": 11,
   "id": "6d36e82d",
   "metadata": {},
   "outputs": [
    {
     "name": "stdout",
     "output_type": "stream",
     "text": [
      "a = 10\n",
      "b = 34\n",
      "Both a and b are not greater that 10\n"
     ]
    }
   ],
   "source": [
    "a = int(input(\"a = \"))\n",
    "b = int(input(\"b = \"))\n",
    "\n",
    "if a > 10 and b > 10:\n",
    "    print(\"Both a and b are greater than 10\")\n",
    "else:\n",
    "    print(\"Both a and b are not greater that 10\")"
   ]
  },
  {
   "cell_type": "code",
   "execution_count": 12,
   "id": "9aa06a73",
   "metadata": {},
   "outputs": [
    {
     "name": "stdout",
     "output_type": "stream",
     "text": [
      "a = 12\n",
      "b = 4\n",
      "c = 2\n",
      "a is largest number\n"
     ]
    }
   ],
   "source": [
    "a = int(input(\"a = \"))\n",
    "b = int(input(\"b = \"))\n",
    "c = int(input(\"c = \"))\n",
    "\n",
    "if a > b and b > c:\n",
    "    print(\"a is largest number\")\n",
    "else:\n",
    "    print(\"a is not the largest number\")"
   ]
  },
  {
   "cell_type": "markdown",
   "id": "19a711e3",
   "metadata": {},
   "source": [
    "### Nested IF-ElSE"
   ]
  },
  {
   "cell_type": "code",
   "execution_count": 13,
   "id": "a99b7d0d",
   "metadata": {},
   "outputs": [
    {
     "name": "stdout",
     "output_type": "stream",
     "text": [
      "n = 2\n",
      "m = 4\n",
      "1\n"
     ]
    }
   ],
   "source": [
    "n = int(input(\"n = \"))\n",
    "m = int(input(\"m = \"))\n",
    "\n",
    "if n % 2 == 0:\n",
    "    if m % 2 == 0:\n",
    "        print(1)\n",
    "    else:\n",
    "        print(2)\n",
    "else:\n",
    "    print(3)"
   ]
  },
  {
   "cell_type": "markdown",
   "id": "1a3be116",
   "metadata": {},
   "source": [
    "### While Loop"
   ]
  },
  {
   "cell_type": "code",
   "execution_count": 14,
   "id": "0c17fa9a",
   "metadata": {},
   "outputs": [
    {
     "name": "stdout",
     "output_type": "stream",
     "text": [
      "n = 5\n",
      "1\n",
      "2\n",
      "3\n",
      "4\n",
      "5\n"
     ]
    }
   ],
   "source": [
    "# print first n natural numbers\n",
    "\n",
    "n = int(input(\"n = \"))\n",
    "\n",
    "i = 1\n",
    "\n",
    "while i <= n:\n",
    "    print(i)\n",
    "    i += 1"
   ]
  },
  {
   "cell_type": "code",
   "execution_count": 19,
   "id": "6735dd0a",
   "metadata": {},
   "outputs": [
    {
     "name": "stdout",
     "output_type": "stream",
     "text": [
      "n = 6\n",
      "Not Prime\n"
     ]
    }
   ],
   "source": [
    "# check if number is prime or not\n",
    "\n",
    "n = int(input(\"n = \"))\n",
    "\n",
    "i = 2\n",
    "flag = False\n",
    "\n",
    "while i < n:\n",
    "    if n % i == 0:\n",
    "        flag = True\n",
    "    i += 1\n",
    "    \n",
    "if flag:\n",
    "    print(\"Not Prime\")\n",
    "else:\n",
    "    print(\"Prime\")"
   ]
  },
  {
   "cell_type": "code",
   "execution_count": 21,
   "id": "ef89deca",
   "metadata": {},
   "outputs": [
    {
     "name": "stdout",
     "output_type": "stream",
     "text": [
      "n = 9\n",
      "2\n",
      "3\n",
      "5\n",
      "7\n"
     ]
    }
   ],
   "source": [
    "n = int(input(\"n = \"))\n",
    "\n",
    "i = 2\n",
    "\n",
    "while i <= n:\n",
    "    j = 2\n",
    "    flag = False\n",
    "    while j < i:\n",
    "        if i % j == 0:\n",
    "            flag = True\n",
    "        j += 1\n",
    "    if not flag:\n",
    "        print(i)\n",
    "    i += 1"
   ]
  },
  {
   "cell_type": "code",
   "execution_count": 25,
   "id": "1db373bf",
   "metadata": {},
   "outputs": [
    {
     "name": "stdout",
     "output_type": "stream",
     "text": [
      "0\n",
      "100\n",
      "20\n",
      "0 -17\n",
      "20 -6\n",
      "40 4\n",
      "60 15\n",
      "80 26\n",
      "100 37\n"
     ]
    }
   ],
   "source": [
    "# Read input as sepcified in the question\n",
    "S = int(input())\n",
    "E = int(input())\n",
    "W = int(input())\n",
    "\n",
    "# Print output as specified in the question\n",
    "\n",
    "while S <= E:\n",
    "    print(S, int((S - 32) * 5/9))\n",
    "    S += W"
   ]
  },
  {
   "cell_type": "code",
   "execution_count": 2,
   "id": "6cb100d4",
   "metadata": {},
   "outputs": [
    {
     "name": "stdout",
     "output_type": "stream",
     "text": [
      "6\n"
     ]
    }
   ],
   "source": [
    "while True:\n",
    "    n1 = int(input())\n",
    "    if n1 == 1:\n",
    "        a = int(input())\n",
    "        b = int(input())\n",
    "        print(a+b)\n",
    "    elif n1 == 2:\n",
    "        a = int(input())\n",
    "        b = int(input())\n",
    "        print(a-b)\n",
    "    elif n1 == 3:\n",
    "        a = int(input())\n",
    "        b = int(input())\n",
    "        print(a*b)\n",
    "    elif n1 == 4:\n",
    "        a = int(input())\n",
    "        b = int(input())\n",
    "        print(a//b)\n",
    "    elif n1 == 5:\n",
    "        a = int(input())\n",
    "        b = int(input())\n",
    "        print(a%b)\n",
    "    elif n1 == 6:\n",
    "        break\n",
    "    else:\n",
    "        print(\"Invalid Operation\")"
   ]
  },
  {
   "cell_type": "code",
   "execution_count": 6,
   "id": "a4ecf48b",
   "metadata": {},
   "outputs": [
    {
     "name": "stdout",
     "output_type": "stream",
     "text": [
      "10400\n",
      "00401\n"
     ]
    }
   ],
   "source": [
    "N = input()\n",
    "\n",
    "print(N[::-1])"
   ]
  },
  {
   "cell_type": "code",
   "execution_count": 10,
   "id": "dba985e6",
   "metadata": {},
   "outputs": [
    {
     "name": "stdout",
     "output_type": "stream",
     "text": [
      "1234\n",
      "6 4\n"
     ]
    }
   ],
   "source": [
    "N = input()\n",
    "\n",
    "i = 0\n",
    "    \n",
    "sum1 = 0\n",
    "sum2 = 0\n",
    "\n",
    "while i < len(N):\n",
    "    if int(N[i]) % 2 == 0:\n",
    "        sum1 += int(N[i])\n",
    "        i += 1\n",
    "    else:\n",
    "        sum2 += int(N[i])\n",
    "        i += 1\n",
    "        \n",
    "print(sum1, sum2)"
   ]
  },
  {
   "cell_type": "code",
   "execution_count": 10,
   "id": "c451c8fb",
   "metadata": {},
   "outputs": [
    {
     "name": "stdout",
     "output_type": "stream",
     "text": [
      "4\n",
      "3\n"
     ]
    }
   ],
   "source": [
    "N = int(input())\n",
    "\n",
    "a = 0\n",
    "b = 1\n",
    "i = 1\n",
    "sum = 0\n",
    "\n",
    "while i <= N:\n",
    "    if i == 1:\n",
    "        sum = 1\n",
    "    else:\n",
    "        sum = a + b\n",
    "        a = b\n",
    "        b = sum\n",
    "    i += 1\n",
    "\n",
    "print(sum)"
   ]
  },
  {
   "cell_type": "code",
   "execution_count": null,
   "id": "16cadccd",
   "metadata": {},
   "outputs": [],
   "source": []
  },
  {
   "cell_type": "code",
   "execution_count": null,
   "id": "3b5acae1",
   "metadata": {},
   "outputs": [],
   "source": []
  }
 ],
 "metadata": {
  "kernelspec": {
   "display_name": "Python 3",
   "language": "python",
   "name": "python3"
  },
  "language_info": {
   "codemirror_mode": {
    "name": "ipython",
    "version": 3
   },
   "file_extension": ".py",
   "mimetype": "text/x-python",
   "name": "python",
   "nbconvert_exporter": "python",
   "pygments_lexer": "ipython3",
   "version": "3.8.8"
  }
 },
 "nbformat": 4,
 "nbformat_minor": 5
}
