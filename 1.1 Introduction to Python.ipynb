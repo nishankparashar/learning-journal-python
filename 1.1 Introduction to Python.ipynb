{
 "cells": [
  {
   "cell_type": "markdown",
   "id": "0cbc5faa",
   "metadata": {},
   "source": [
    "### Print HelloWorld"
   ]
  },
  {
   "cell_type": "code",
   "execution_count": 4,
   "id": "e881a9e8",
   "metadata": {},
   "outputs": [
    {
     "name": "stdout",
     "output_type": "stream",
     "text": [
      "HelloWorld\n"
     ]
    }
   ],
   "source": [
    "print(\"HelloWorld\")"
   ]
  },
  {
   "cell_type": "markdown",
   "id": "9532bbd9",
   "metadata": {},
   "source": [
    "### Variables"
   ]
  },
  {
   "cell_type": "code",
   "execution_count": 5,
   "id": "8bcbe316",
   "metadata": {},
   "outputs": [
    {
     "data": {
      "text/plain": [
       "30"
      ]
     },
     "execution_count": 5,
     "metadata": {},
     "output_type": "execute_result"
    }
   ],
   "source": [
    "a = 10\n",
    "b = 20\n",
    "\n",
    "sum = a + b\n",
    "sum"
   ]
  },
  {
   "cell_type": "code",
   "execution_count": 8,
   "id": "571afec9",
   "metadata": {},
   "outputs": [
    {
     "name": "stdout",
     "output_type": "stream",
     "text": [
      "a = 10\n",
      "b = 20\n",
      "a + b = 30\n"
     ]
    }
   ],
   "source": [
    "print(\"a =\",a)\n",
    "print(\"b =\",b)\n",
    "print(\"a + b =\",sum)"
   ]
  },
  {
   "cell_type": "markdown",
   "id": "37f0ed34",
   "metadata": {},
   "source": [
    "### Variable Naming\n",
    "\n",
    "1. Vaiable name can inculde A-Z, a-z, 0-9 and _ \n",
    "2. Variable can only begin with A-Z, a-z or _\n",
    "3. Variable name can't start with 0-9"
   ]
  },
  {
   "cell_type": "code",
   "execution_count": 9,
   "id": "14056032",
   "metadata": {},
   "outputs": [],
   "source": [
    "aB_123 = 10 \n",
    "_aB123 = 20\n",
    "\n",
    "# 12abc = 12  # this will give an error"
   ]
  },
  {
   "cell_type": "code",
   "execution_count": 10,
   "id": "fab6c9b4",
   "metadata": {},
   "outputs": [
    {
     "data": {
      "text/plain": [
       "10"
      ]
     },
     "execution_count": 10,
     "metadata": {},
     "output_type": "execute_result"
    }
   ],
   "source": [
    "aB_123"
   ]
  },
  {
   "cell_type": "code",
   "execution_count": 11,
   "id": "ec8f5203",
   "metadata": {},
   "outputs": [
    {
     "data": {
      "text/plain": [
       "20"
      ]
     },
     "execution_count": 11,
     "metadata": {},
     "output_type": "execute_result"
    }
   ],
   "source": [
    "_aB123"
   ]
  },
  {
   "cell_type": "markdown",
   "id": "41b45221",
   "metadata": {},
   "source": [
    "### Variable Assignment"
   ]
  },
  {
   "cell_type": "code",
   "execution_count": 12,
   "id": "90cfb41d",
   "metadata": {},
   "outputs": [
    {
     "data": {
      "text/plain": [
       "'abcd'"
      ]
     },
     "execution_count": 12,
     "metadata": {},
     "output_type": "execute_result"
    }
   ],
   "source": [
    "a = 10\n",
    "a = 20\n",
    "a = \"abcd\"\n",
    "a"
   ]
  },
  {
   "cell_type": "code",
   "execution_count": 14,
   "id": "018a9621",
   "metadata": {},
   "outputs": [
    {
     "name": "stdout",
     "output_type": "stream",
     "text": [
      "<class 'str'>\n",
      "<class 'int'>\n"
     ]
    }
   ],
   "source": [
    "print(type(a))\n",
    "\n",
    "a = 10\n",
    "print(type(a))"
   ]
  },
  {
   "cell_type": "markdown",
   "id": "bce137f4",
   "metadata": {},
   "source": [
    "### Python Numbers"
   ]
  },
  {
   "cell_type": "code",
   "execution_count": 17,
   "id": "2f906779",
   "metadata": {},
   "outputs": [
    {
     "name": "stdout",
     "output_type": "stream",
     "text": [
      "2\n",
      "3.14\n",
      "(4+5j)\n",
      "<class 'int'>\n",
      "<class 'float'>\n",
      "<class 'complex'>\n"
     ]
    }
   ],
   "source": [
    "a = 2\n",
    "b = 3.14\n",
    "c = 4 + 5j\n",
    "\n",
    "print(a)\n",
    "print(b)\n",
    "print(c)\n",
    "\n",
    "print(type(a))\n",
    "print(type(b))\n",
    "print(type(c))"
   ]
  },
  {
   "cell_type": "code",
   "execution_count": 18,
   "id": "aaa37c80",
   "metadata": {},
   "outputs": [
    {
     "name": "stdout",
     "output_type": "stream",
     "text": [
      "4345719424\n",
      "4345719456\n"
     ]
    },
    {
     "data": {
      "text/plain": [
       "11"
      ]
     },
     "execution_count": 18,
     "metadata": {},
     "output_type": "execute_result"
    }
   ],
   "source": [
    "a = 10\n",
    "print(id(a))\n",
    "\n",
    "a = a + 1\n",
    "print(id(a))\n",
    "\n",
    "a"
   ]
  },
  {
   "cell_type": "code",
   "execution_count": 21,
   "id": "63602ba8",
   "metadata": {},
   "outputs": [
    {
     "name": "stdout",
     "output_type": "stream",
     "text": [
      "4345719424\n",
      "4345719424\n"
     ]
    }
   ],
   "source": [
    "a = 10\n",
    "b = 10\n",
    "\n",
    "print(id(a))\n",
    "print(id(b)) # id of both the variables is same as its storing integer value between -5 and 256"
   ]
  },
  {
   "cell_type": "code",
   "execution_count": 22,
   "id": "dbe5a23c",
   "metadata": {},
   "outputs": [
    {
     "name": "stdout",
     "output_type": "stream",
     "text": [
      "140405038463760\n",
      "140405038464720\n"
     ]
    }
   ],
   "source": [
    "a = 1000\n",
    "b = 1000\n",
    "\n",
    "print(id(a))\n",
    "print(id(b))"
   ]
  },
  {
   "cell_type": "code",
   "execution_count": 23,
   "id": "e486ff9e",
   "metadata": {},
   "outputs": [
    {
     "name": "stdout",
     "output_type": "stream",
     "text": [
      "True\n"
     ]
    }
   ],
   "source": [
    "a = 10\n",
    "id1 = id(a)\n",
    "b = a + 2 - 2\n",
    "id2 = id(b)\n",
    "\n",
    "print(id1 == id2)"
   ]
  },
  {
   "cell_type": "markdown",
   "id": "a60b5685",
   "metadata": {},
   "source": [
    "### Limit/ Range of Interger\n",
    "\n",
    "There is no range/limit for an Integer, it limit depends on the how much memory is allow to python program."
   ]
  },
  {
   "cell_type": "code",
   "execution_count": 24,
   "id": "30ffd26c",
   "metadata": {},
   "outputs": [
    {
     "name": "stdout",
     "output_type": "stream",
     "text": [
      "1e+37\n"
     ]
    }
   ],
   "source": [
    "print(1e308)"
   ]
  },
  {
   "cell_type": "code",
   "execution_count": 28,
   "id": "6de0f829",
   "metadata": {},
   "outputs": [
    {
     "name": "stdout",
     "output_type": "stream",
     "text": [
      "inf\n"
     ]
    }
   ],
   "source": [
    "print(1e309)"
   ]
  },
  {
   "cell_type": "markdown",
   "id": "a47121ad",
   "metadata": {},
   "source": [
    "### Airthmetic Operators"
   ]
  },
  {
   "cell_type": "code",
   "execution_count": 29,
   "id": "90ab3de6",
   "metadata": {},
   "outputs": [],
   "source": [
    "a = 10\n",
    "b = 4"
   ]
  },
  {
   "cell_type": "code",
   "execution_count": 30,
   "id": "8462fa58",
   "metadata": {},
   "outputs": [
    {
     "data": {
      "text/plain": [
       "14"
      ]
     },
     "execution_count": 30,
     "metadata": {},
     "output_type": "execute_result"
    }
   ],
   "source": [
    "a+b # addition"
   ]
  },
  {
   "cell_type": "code",
   "execution_count": 31,
   "id": "4a113b7b",
   "metadata": {},
   "outputs": [
    {
     "data": {
      "text/plain": [
       "6"
      ]
     },
     "execution_count": 31,
     "metadata": {},
     "output_type": "execute_result"
    }
   ],
   "source": [
    "a-b # substraction"
   ]
  },
  {
   "cell_type": "code",
   "execution_count": 32,
   "id": "b271f7bc",
   "metadata": {},
   "outputs": [
    {
     "data": {
      "text/plain": [
       "40"
      ]
     },
     "execution_count": 32,
     "metadata": {},
     "output_type": "execute_result"
    }
   ],
   "source": [
    "a*b # multiplication"
   ]
  },
  {
   "cell_type": "code",
   "execution_count": 33,
   "id": "217aa538",
   "metadata": {},
   "outputs": [
    {
     "data": {
      "text/plain": [
       "2.5"
      ]
     },
     "execution_count": 33,
     "metadata": {},
     "output_type": "execute_result"
    }
   ],
   "source": [
    "a/b # floating point division"
   ]
  },
  {
   "cell_type": "code",
   "execution_count": 34,
   "id": "1dc56a85",
   "metadata": {},
   "outputs": [
    {
     "data": {
      "text/plain": [
       "2"
      ]
     },
     "execution_count": 34,
     "metadata": {},
     "output_type": "execute_result"
    }
   ],
   "source": [
    "a//b # integer division"
   ]
  },
  {
   "cell_type": "code",
   "execution_count": 35,
   "id": "f61452e7",
   "metadata": {},
   "outputs": [
    {
     "data": {
      "text/plain": [
       "10000"
      ]
     },
     "execution_count": 35,
     "metadata": {},
     "output_type": "execute_result"
    }
   ],
   "source": [
    "a**b # exponential"
   ]
  },
  {
   "cell_type": "code",
   "execution_count": 36,
   "id": "b7082119",
   "metadata": {},
   "outputs": [
    {
     "data": {
      "text/plain": [
       "2"
      ]
     },
     "execution_count": 36,
     "metadata": {},
     "output_type": "execute_result"
    }
   ],
   "source": [
    "a%b # modulus"
   ]
  },
  {
   "cell_type": "code",
   "execution_count": 38,
   "id": "25f0524f",
   "metadata": {},
   "outputs": [
    {
     "data": {
      "text/plain": [
       "12"
      ]
     },
     "execution_count": 38,
     "metadata": {},
     "output_type": "execute_result"
    }
   ],
   "source": [
    "# simple interest to lower integer\n",
    "p = 100\n",
    "r = 6\n",
    "t = 2\n",
    "\n",
    "si = (p * r * t) // 100\n",
    "si"
   ]
  },
  {
   "cell_type": "code",
   "execution_count": 39,
   "id": "e02cf864",
   "metadata": {},
   "outputs": [
    {
     "name": "stdout",
     "output_type": "stream",
     "text": [
      "37.5\n",
      "37.0\n"
     ]
    }
   ],
   "source": [
    "# fah to celcius conversion\n",
    "f = 100\n",
    "\n",
    "c = (f - 32.5) * 5/9\n",
    "print(c)\n",
    "\n",
    "ci  = (f - 32.5) * 5//9\n",
    "print(ci)"
   ]
  },
  {
   "cell_type": "markdown",
   "id": "c62bc494",
   "metadata": {},
   "source": [
    "### input()"
   ]
  },
  {
   "cell_type": "code",
   "execution_count": 40,
   "id": "2f660b7f",
   "metadata": {},
   "outputs": [
    {
     "name": "stdout",
     "output_type": "stream",
     "text": [
      "Enter the first number = 3\n",
      "Enter the second number = 2\n",
      "Sum = 5\n"
     ]
    }
   ],
   "source": [
    "a = int(input(\"Enter the first number = \"))\n",
    "b = int(input(\"Enter the second number = \"))\n",
    "print(\"Sum =\", a+b)"
   ]
  },
  {
   "cell_type": "code",
   "execution_count": 41,
   "id": "0d2c86d4",
   "metadata": {},
   "outputs": [
    {
     "name": "stdout",
     "output_type": "stream",
     "text": [
      "Principle Amt. = 100\n",
      "Rate of Interest = 6\n",
      "Time = 4\n",
      "Simple Interest = 24.0\n"
     ]
    }
   ],
   "source": [
    "# calculate simple interest\n",
    "\n",
    "p = int(input(\"Principle Amt. = \"))\n",
    "r = int(input(\"Rate of Interest = \"))\n",
    "t = int(input(\"Time = \"))\n",
    "print(\"Simple Interest =\", (p*r*t)/100)"
   ]
  },
  {
   "cell_type": "code",
   "execution_count": 42,
   "id": "f2b3bcbe",
   "metadata": {},
   "outputs": [
    {
     "name": "stdout",
     "output_type": "stream",
     "text": [
      "Enter the Temprature in Fah. = 100\n",
      "Temprature in Celcius = 37.5\n"
     ]
    }
   ],
   "source": [
    "# fah to celcius conversion\n",
    "\n",
    "f = int(input(\"Enter the Temprature in Fah. = \"))\n",
    "\n",
    "print(\"Temprature in Celcius =\", (f - 32.5) * 5/9)"
   ]
  },
  {
   "cell_type": "code",
   "execution_count": null,
   "id": "e112ff2d",
   "metadata": {},
   "outputs": [],
   "source": []
  }
 ],
 "metadata": {
  "kernelspec": {
   "display_name": "Python 3",
   "language": "python",
   "name": "python3"
  },
  "language_info": {
   "codemirror_mode": {
    "name": "ipython",
    "version": 3
   },
   "file_extension": ".py",
   "mimetype": "text/x-python",
   "name": "python",
   "nbconvert_exporter": "python",
   "pygments_lexer": "ipython3",
   "version": "3.8.8"
  }
 },
 "nbformat": 4,
 "nbformat_minor": 5
}
