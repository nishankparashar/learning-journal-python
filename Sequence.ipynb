{
 "cells": [
  {
   "cell_type": "markdown",
   "id": "0eeed8c5",
   "metadata": {},
   "source": [
    "Sequence Type - \n",
    "1. List - Mutable\n",
    "2. Tuple - Immutable\n",
    "3. Range - Immutable\n",
    "4. Str - Immutable"
   ]
  },
  {
   "cell_type": "markdown",
   "id": "1757d9a5",
   "metadata": {},
   "source": [
    "Sequence Operations - \n",
    "1. Comparison\n",
    "2. Containmenrt Testing\n",
    "3. Concatenation and Repetition\n",
    "4. Element Extraction and Slicing\n",
    "5. Element Index and Count"
   ]
  },
  {
   "cell_type": "code",
   "execution_count": 1,
   "id": "7fa14c06",
   "metadata": {},
   "outputs": [
    {
     "name": "stdout",
     "output_type": "stream",
     "text": [
      "False\n",
      "True\n"
     ]
    }
   ],
   "source": [
    "name = \"prashant\"\n",
    "nameList = [\"abdul\", \"john\", \"lisa\"]\n",
    "\n",
    "print(name == \"Prashant\")\n",
    "print(name == \"prashant\")"
   ]
  },
  {
   "cell_type": "code",
   "execution_count": 4,
   "id": "f95db151",
   "metadata": {},
   "outputs": [
    {
     "name": "stdout",
     "output_type": "stream",
     "text": [
      "True\n",
      "False\n",
      "False\n"
     ]
    }
   ],
   "source": [
    "print(nameList == [\"abdul\", \"john\", \"lisa\"])\n",
    "print(nameList == [\"ravi\", \"john\", \"lisa\"])\n",
    "print(nameList == [\"lisa\", \"john\", \"abdul\"])"
   ]
  },
  {
   "cell_type": "code",
   "execution_count": 9,
   "id": "e00b6f54",
   "metadata": {},
   "outputs": [
    {
     "name": "stdout",
     "output_type": "stream",
     "text": [
      "True\n",
      "True\n",
      "True\n",
      "False\n"
     ]
    }
   ],
   "source": [
    "print('h' in name)\n",
    "print(\"abdul\" in nameList)\n",
    "print('ash' in name)\n",
    "print([\"abdul\",\"john\"] in nameList) # alawys come false"
   ]
  },
  {
   "cell_type": "code",
   "execution_count": 11,
   "id": "6e3ca882",
   "metadata": {},
   "outputs": [
    {
     "name": "stdout",
     "output_type": "stream",
     "text": [
      "prashant pandey\n"
     ]
    }
   ],
   "source": [
    "print(name + \" pandey\")"
   ]
  },
  {
   "cell_type": "code",
   "execution_count": 12,
   "id": "a6e1a7d8",
   "metadata": {},
   "outputs": [
    {
     "name": "stdout",
     "output_type": "stream",
     "text": [
      "['abdul', 'john', 'lisa', 'prashant']\n"
     ]
    }
   ],
   "source": [
    "print(nameList + [name])"
   ]
  },
  {
   "cell_type": "code",
   "execution_count": 14,
   "id": "9f2b1242",
   "metadata": {},
   "outputs": [
    {
     "name": "stdout",
     "output_type": "stream",
     "text": [
      "prashant prashant prashant \n",
      "['abdul', 'john', 'lisa', 'prashant', 'prashant', 'prashant']\n"
     ]
    }
   ],
   "source": [
    "print((name + \" \") * 3)\n",
    "print(nameList + [name] * 3)"
   ]
  },
  {
   "cell_type": "code",
   "execution_count": 17,
   "id": "8fd62a34",
   "metadata": {},
   "outputs": [
    {
     "name": "stdout",
     "output_type": "stream",
     "text": [
      "a\n",
      "n\n"
     ]
    }
   ],
   "source": [
    "print(name[2]) # starts from 0\n",
    "print(name[-2]) # len minus 1"
   ]
  },
  {
   "cell_type": "markdown",
   "id": "a24c6cc7",
   "metadata": {},
   "source": [
    "Python Sequences are zero-indexed.\n",
    "So, the first element is positioned at index zero, the second element at position 1, and so on.\n",
    "A negative index is subtracted from the sequence length.\n",
    "We cannot go out of the idex boundary."
   ]
  },
  {
   "cell_type": "code",
   "execution_count": 18,
   "id": "325d81aa",
   "metadata": {},
   "outputs": [
    {
     "name": "stdout",
     "output_type": "stream",
     "text": [
      "lisa\n",
      "john\n"
     ]
    }
   ],
   "source": [
    "print(nameList[2])\n",
    "print(nameList[-2])"
   ]
  },
  {
   "cell_type": "markdown",
   "id": "96f995c3",
   "metadata": {},
   "source": [
    "Syntax of Slicing - \n",
    "\n",
    "**s[ satrt_index : stop_index : step_size ]**\n",
    "\n",
    "**start_index < stop_index**\n",
    "\n",
    "**start <= step < stop**"
   ]
  },
  {
   "cell_type": "code",
   "execution_count": 19,
   "id": "9b450666",
   "metadata": {},
   "outputs": [
    {
     "name": "stdout",
     "output_type": "stream",
     "text": [
      "prashan\n"
     ]
    }
   ],
   "source": [
    "name = \"prashant kumar pandey\"\n",
    "nameList = [\"abdul\", \"john\", \"lisa\",\"prashant\"]\n",
    "\n",
    "print(name[0:7]) # takes every thing before the stop position"
   ]
  },
  {
   "cell_type": "code",
   "execution_count": 22,
   "id": "b0185671",
   "metadata": {},
   "outputs": [
    {
     "name": "stdout",
     "output_type": "stream",
     "text": [
      "prashant\n",
      "['john', 'lisa']\n"
     ]
    }
   ],
   "source": [
    "print(name[0:8])\n",
    "print(nameList[1:3])"
   ]
  },
  {
   "cell_type": "code",
   "execution_count": 23,
   "id": "d82a45c6",
   "metadata": {},
   "outputs": [
    {
     "name": "stdout",
     "output_type": "stream",
     "text": [
      "prashant\n",
      "nt kumar pandey\n",
      "prashant kumar pandey\n"
     ]
    }
   ],
   "source": [
    "print(name[:8])\n",
    "print(name[6:])\n",
    "print(name[:])"
   ]
  },
  {
   "cell_type": "code",
   "execution_count": 26,
   "id": "2ff2bab6",
   "metadata": {},
   "outputs": [
    {
     "name": "stdout",
     "output_type": "stream",
     "text": [
      "pandey\n",
      "prashant\n",
      "kumar\n"
     ]
    }
   ],
   "source": [
    "print(name[-6:])\n",
    "print(name[:-13])\n",
    "print(name[9:-7])"
   ]
  },
  {
   "cell_type": "code",
   "execution_count": 29,
   "id": "e62c405c",
   "metadata": {},
   "outputs": [
    {
     "name": "stdout",
     "output_type": "stream",
     "text": [
      "p\n",
      "p\n"
     ]
    }
   ],
   "source": [
    "print(name[0:21:50]) # python corrects this expression to the given below expression\n",
    "print(name[0:21:21])"
   ]
  },
  {
   "cell_type": "code",
   "execution_count": 30,
   "id": "3583ecce",
   "metadata": {},
   "outputs": [
    {
     "name": "stdout",
     "output_type": "stream",
     "text": [
      "psnkapd\n"
     ]
    }
   ],
   "source": [
    "print(name[0:21:3])"
   ]
  },
  {
   "cell_type": "code",
   "execution_count": 32,
   "id": "7aaa4241",
   "metadata": {},
   "outputs": [
    {
     "name": "stdout",
     "output_type": "stream",
     "text": [
      "yednap\n",
      "yednap\n"
     ]
    }
   ],
   "source": [
    "print(name[-1:-7:-1])\n",
    "print(name[20:14:-1]) # same as above"
   ]
  },
  {
   "cell_type": "markdown",
   "id": "1bfc9c6c",
   "metadata": {},
   "source": [
    "Index Function\n",
    "\n",
    "**s.index(x[,start_index[,stop_index]])**\n",
    "\n",
    "To return the index of the **first occurrence** of x in s.\n",
    "And the search begins at start_index and stops at stop_index.\n",
    "The stop_index is, again, non-inclusive.\n",
    "The start and indexes are optional."
   ]
  },
  {
   "cell_type": "code",
   "execution_count": 33,
   "id": "fe1accac",
   "metadata": {},
   "outputs": [
    {
     "name": "stdout",
     "output_type": "stream",
     "text": [
      "5\n"
     ]
    }
   ],
   "source": [
    "print(name.index(\"a\",3,10))"
   ]
  },
  {
   "cell_type": "code",
   "execution_count": null,
   "id": "6f85bf46",
   "metadata": {},
   "outputs": [],
   "source": []
  }
 ],
 "metadata": {
  "kernelspec": {
   "display_name": "Python 3",
   "language": "python",
   "name": "python3"
  },
  "language_info": {
   "codemirror_mode": {
    "name": "ipython",
    "version": 3
   },
   "file_extension": ".py",
   "mimetype": "text/x-python",
   "name": "python",
   "nbconvert_exporter": "python",
   "pygments_lexer": "ipython3",
   "version": "3.8.8"
  }
 },
 "nbformat": 4,
 "nbformat_minor": 5
}
