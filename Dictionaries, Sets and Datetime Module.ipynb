{
 "cells": [
  {
   "cell_type": "markdown",
   "id": "ea70de23",
   "metadata": {},
   "source": [
    "Dictionary is an unordered collection of items.\n",
    "Unlike other data types, it can hold data values like a map, commonly known as Key: Value pair.\n",
    "\n",
    "Dictionaries are mutable, so you can alter their values and keys."
   ]
  },
  {
   "cell_type": "code",
   "execution_count": 24,
   "id": "bede9b5c",
   "metadata": {},
   "outputs": [
    {
     "name": "stdout",
     "output_type": "stream",
     "text": [
      "{'Ron': 101, 'Jack': 102, 'Rick': 103}\n"
     ]
    }
   ],
   "source": [
    "info_1 = {'Ron':101, 'Jack':102, 'Rick':103}\n",
    "print(info_1)"
   ]
  },
  {
   "cell_type": "code",
   "execution_count": 25,
   "id": "547b82d3",
   "metadata": {},
   "outputs": [],
   "source": [
    "info_1 = {'Ron':101, 'Ron':102, 'Rick':103}"
   ]
  },
  {
   "cell_type": "code",
   "execution_count": 26,
   "id": "8fc4b589",
   "metadata": {},
   "outputs": [
    {
     "data": {
      "text/plain": [
       "102"
      ]
     },
     "execution_count": 26,
     "metadata": {},
     "output_type": "execute_result"
    }
   ],
   "source": [
    "info_1['Ron']"
   ]
  },
  {
   "cell_type": "markdown",
   "id": "0d2a5d31",
   "metadata": {},
   "source": [
    "If you are using a 'key' multiple times, the latest value associated with the key is taken."
   ]
  },
  {
   "cell_type": "code",
   "execution_count": 27,
   "id": "1c4e141b",
   "metadata": {},
   "outputs": [
    {
     "name": "stdout",
     "output_type": "stream",
     "text": [
      "{'Ron': 101, 'Jack': 102, 'Rick': 103}\n"
     ]
    }
   ],
   "source": [
    "info_2 = dict({'Ron':101, 'Jack':102, 'Rick':103})\n",
    "print(info_2)"
   ]
  },
  {
   "cell_type": "code",
   "execution_count": 28,
   "id": "f663a11a",
   "metadata": {},
   "outputs": [
    {
     "name": "stdout",
     "output_type": "stream",
     "text": [
      "{'Ron': 101, 'Jack': 102, 'Rick': 103}\n"
     ]
    }
   ],
   "source": [
    "info_3 = dict(Ron = 101, Jack = 102, Rick = 103)\n",
    "print(info_3)"
   ]
  },
  {
   "cell_type": "code",
   "execution_count": 29,
   "id": "76e0ee8a",
   "metadata": {},
   "outputs": [
    {
     "name": "stdout",
     "output_type": "stream",
     "text": [
      "{'Tom': 104, 'John': 105}\n"
     ]
    }
   ],
   "source": [
    "myList = [('Tom',104), ('John',105)]\n",
    "print(dict(myList))"
   ]
  },
  {
   "cell_type": "code",
   "execution_count": 30,
   "id": "e7784a79",
   "metadata": {},
   "outputs": [
    {
     "name": "stdout",
     "output_type": "stream",
     "text": [
      "{'Tom': 104, 'John': 105}\n"
     ]
    }
   ],
   "source": [
    "myTuple = (('Tom',104), ('John',105))\n",
    "print(dict(myTuple))"
   ]
  },
  {
   "cell_type": "code",
   "execution_count": 31,
   "id": "81e30e8a",
   "metadata": {},
   "outputs": [
    {
     "name": "stdout",
     "output_type": "stream",
     "text": [
      "{'Ron': 108, 'John': 102, 'Rick': 103}\n"
     ]
    }
   ],
   "source": [
    "info_1 = {'Ron':101, 'John':102, 'Rick':103}\n",
    "info_1['Ron'] = 108 #change value of a key\n",
    "print(info_1)"
   ]
  },
  {
   "cell_type": "code",
   "execution_count": 32,
   "id": "4f6fe990",
   "metadata": {},
   "outputs": [
    {
     "name": "stdout",
     "output_type": "stream",
     "text": [
      "{'Ron': 108, 'John': 102, 'Rick': 103, 'Siri': 110}\n"
     ]
    }
   ],
   "source": [
    "info_1['Siri'] = 110 # adding an new element to the dictionary \n",
    "print(info_1)"
   ]
  },
  {
   "cell_type": "code",
   "execution_count": 33,
   "id": "158fd52d",
   "metadata": {},
   "outputs": [
    {
     "data": {
      "text/plain": [
       "dict_keys(['Ron', 'John', 'Rick', 'Siri'])"
      ]
     },
     "execution_count": 33,
     "metadata": {},
     "output_type": "execute_result"
    }
   ],
   "source": [
    "info_1.keys()"
   ]
  },
  {
   "cell_type": "code",
   "execution_count": 34,
   "id": "895e5744",
   "metadata": {},
   "outputs": [
    {
     "data": {
      "text/plain": [
       "dict_values([108, 102, 103, 110])"
      ]
     },
     "execution_count": 34,
     "metadata": {},
     "output_type": "execute_result"
    }
   ],
   "source": [
    "info_1.values()"
   ]
  },
  {
   "cell_type": "code",
   "execution_count": 35,
   "id": "694b47b3",
   "metadata": {},
   "outputs": [
    {
     "data": {
      "text/plain": [
       "dict_items([('Ron', 108), ('John', 102), ('Rick', 103), ('Siri', 110)])"
      ]
     },
     "execution_count": 35,
     "metadata": {},
     "output_type": "execute_result"
    }
   ],
   "source": [
    "info_1.items()"
   ]
  },
  {
   "cell_type": "code",
   "execution_count": 36,
   "id": "bc5639a5",
   "metadata": {},
   "outputs": [
    {
     "name": "stdout",
     "output_type": "stream",
     "text": [
      "Ron 108\n",
      "John 102\n",
      "Rick 103\n",
      "Siri 110\n"
     ]
    }
   ],
   "source": [
    "for i , j in info_1.items():\n",
    "    print(i,j)"
   ]
  },
  {
   "cell_type": "code",
   "execution_count": 37,
   "id": "caadd8d3",
   "metadata": {},
   "outputs": [
    {
     "name": "stdout",
     "output_type": "stream",
     "text": [
      "{'Ron': 101, 'John': 102, 'Rick': 103, 'Siri': 110, 'Jack': 102}\n"
     ]
    }
   ],
   "source": [
    "info_1_2 = {**info_1, **info_2} # merging two dictionaries\n",
    "print(info_1_2)"
   ]
  },
  {
   "cell_type": "markdown",
   "id": "2c7f6004",
   "metadata": {},
   "source": [
    "But remember, info_1 is the first, and the info_2 is the second.\n",
    "\n",
    "So if you have duplicate keys, the info_2 is considered to have the latest value.\n",
    "\n",
    "If you wanted to consider info_1 as the latest, you must swap the order of merge."
   ]
  },
  {
   "cell_type": "code",
   "execution_count": 38,
   "id": "860a0727",
   "metadata": {},
   "outputs": [
    {
     "name": "stdout",
     "output_type": "stream",
     "text": [
      "{'Ron': 101, 'John': 102, 'Rick': 103, 'Siri': 110, 'Jack': 102}\n"
     ]
    }
   ],
   "source": [
    "info_1.update(info_2) \n",
    "print(info_1)"
   ]
  },
  {
   "cell_type": "code",
   "execution_count": 39,
   "id": "5000e29c",
   "metadata": {},
   "outputs": [
    {
     "data": {
      "text/plain": [
       "5"
      ]
     },
     "execution_count": 39,
     "metadata": {},
     "output_type": "execute_result"
    }
   ],
   "source": [
    "len(info_1)"
   ]
  },
  {
   "cell_type": "code",
   "execution_count": 40,
   "id": "2bdcba7c",
   "metadata": {},
   "outputs": [
    {
     "name": "stdout",
     "output_type": "stream",
     "text": [
      "{'John': 102, 'Rick': 103, 'Siri': 110, 'Jack': 102}\n"
     ]
    }
   ],
   "source": [
    "del info_1['Ron']\n",
    "print(info_1)"
   ]
  },
  {
   "cell_type": "code",
   "execution_count": 41,
   "id": "1a9d45b8",
   "metadata": {},
   "outputs": [],
   "source": [
    "info_1 = {'Ron':101, 'Jack':102, 'Rick':103}\n",
    "del info_1"
   ]
  },
  {
   "cell_type": "code",
   "execution_count": 42,
   "id": "7cf733c2",
   "metadata": {},
   "outputs": [
    {
     "name": "stdout",
     "output_type": "stream",
     "text": [
      "{}\n"
     ]
    }
   ],
   "source": [
    "info_1 = {'Ron':101, 'Jack':102, 'Rick':103}\n",
    "info_1.clear()\n",
    "print(info_1)"
   ]
  },
  {
   "cell_type": "code",
   "execution_count": 43,
   "id": "0b2ff22f",
   "metadata": {},
   "outputs": [
    {
     "name": "stdout",
     "output_type": "stream",
     "text": [
      "{'Jack': 102, 'Rick': 103}\n"
     ]
    }
   ],
   "source": [
    "info_1 = {'Ron':101, 'Jack':102, 'Rick':103}\n",
    "info_1.pop('Ron')\n",
    "print(info_1)"
   ]
  },
  {
   "cell_type": "code",
   "execution_count": 44,
   "id": "f84c60a7",
   "metadata": {},
   "outputs": [
    {
     "data": {
      "text/plain": [
       "True"
      ]
     },
     "execution_count": 44,
     "metadata": {},
     "output_type": "execute_result"
    }
   ],
   "source": [
    "'Jack' in info_1 "
   ]
  },
  {
   "cell_type": "code",
   "execution_count": 47,
   "id": "05959195",
   "metadata": {},
   "outputs": [
    {
     "data": {
      "text/plain": [
       "True"
      ]
     },
     "execution_count": 47,
     "metadata": {},
     "output_type": "execute_result"
    }
   ],
   "source": [
    "info_1 = {'Ron':101, 'Jack':102, 'Rick':103}\n",
    "info_2 = {'Ron':101, 'Jack':102, 'Rick':103}\n",
    "info_1 == info_2"
   ]
  },
  {
   "cell_type": "code",
   "execution_count": 48,
   "id": "fa11c7fd",
   "metadata": {},
   "outputs": [
    {
     "data": {
      "text/plain": [
       "False"
      ]
     },
     "execution_count": 48,
     "metadata": {},
     "output_type": "execute_result"
    }
   ],
   "source": [
    "info_1 != info_2"
   ]
  },
  {
   "cell_type": "code",
   "execution_count": 50,
   "id": "ffe21d04",
   "metadata": {},
   "outputs": [
    {
     "name": "stdout",
     "output_type": "stream",
     "text": [
      "{'Ron': 101, 'Jack': 102, 'Rick': 103}\n"
     ]
    }
   ],
   "source": [
    "info_1 = {'Ron':101, 'Jack':102, 'Rick':103}\n",
    "\n",
    "info = info_1.copy() # shallow copying\n",
    "print(info)"
   ]
  },
  {
   "cell_type": "markdown",
   "id": "6c90794c",
   "metadata": {},
   "source": [
    "This type of copying is known as shallow copying, which works when the dictionary is immutable.\n",
    "In shallow copying, any changes made to a copy of the object will also reflect in the original object.\n",
    "\n",
    "To counter that, there is another type of copying known as deep copying.\n",
    "In which any changes made to a copy of the object do not reflect in the original object."
   ]
  },
  {
   "cell_type": "code",
   "execution_count": 53,
   "id": "2fef9ba9",
   "metadata": {},
   "outputs": [
    {
     "name": "stdout",
     "output_type": "stream",
     "text": [
      "{'A': 'Sleep', 'B': 'Eat', 'X': ['Play', 'Study']}\n",
      "{'A': 'Sleep', 'B': 'Eat', 'X': ['Play', 'Study']}\n"
     ]
    }
   ],
   "source": [
    "msg = {'A':'Sleep', 'B':'Eat', 'X':['Play', 'Study']}\n",
    "\n",
    "inform = msg.copy() # shallow copying\n",
    "\n",
    "print(msg)\n",
    "print(inform)"
   ]
  },
  {
   "cell_type": "code",
   "execution_count": 54,
   "id": "eac65c02",
   "metadata": {},
   "outputs": [
    {
     "name": "stdout",
     "output_type": "stream",
     "text": [
      "{'A': 'Sleep', 'B': 'Eat', 'X': ['Play', 'Cook']}\n",
      "{'A': 'Sleep', 'B': 'Eat', 'X': ['Play', 'Cook']}\n"
     ]
    }
   ],
   "source": [
    "inform['X'][1] = 'Cook'\n",
    "\n",
    "print(inform)\n",
    "print(msg)"
   ]
  },
  {
   "cell_type": "code",
   "execution_count": 57,
   "id": "f1a5c54a",
   "metadata": {},
   "outputs": [
    {
     "name": "stdout",
     "output_type": "stream",
     "text": [
      "{'A': 'Sleep', 'B': 'Eat', 'X': ['Play', 'Study']}\n",
      "{'A': 'Sleep', 'B': 'Eat', 'X': ['Play', 'Study']}\n"
     ]
    }
   ],
   "source": [
    "import copy\n",
    "\n",
    "msg = {'A':'Sleep', 'B':'Eat', 'X':['Play', 'Study']}\n",
    "\n",
    "inform = copy.deepcopy(msg) # deep copying\n",
    "\n",
    "print(msg)\n",
    "print(inform)"
   ]
  },
  {
   "cell_type": "code",
   "execution_count": 58,
   "id": "d9cfbe46",
   "metadata": {},
   "outputs": [
    {
     "name": "stdout",
     "output_type": "stream",
     "text": [
      "{'A': 'Sleep', 'B': 'Eat', 'X': ['Play', 'Cook']}\n",
      "{'A': 'Sleep', 'B': 'Eat', 'X': ['Play', 'Study']}\n"
     ]
    }
   ],
   "source": [
    "inform['X'][1] = 'Cook'\n",
    "\n",
    "print(inform)\n",
    "print(msg)"
   ]
  },
  {
   "cell_type": "code",
   "execution_count": 60,
   "id": "91aaf372",
   "metadata": {},
   "outputs": [
    {
     "name": "stdout",
     "output_type": "stream",
     "text": [
      "{0: 0, 1: 1, 2: 4, 3: 9, 4: 16}\n"
     ]
    }
   ],
   "source": [
    "square = {x:x**2 for x in range(0, 5)}\n",
    "print(square)"
   ]
  },
  {
   "cell_type": "markdown",
   "id": "183d2349",
   "metadata": {},
   "source": [
    "A set is an unordered collection of unique elements, you can think of a set as a dictionary which contains only keys but not the values.\n",
    "\n",
    "The primary purpose of the set data structure is to eliminate duplicates or test for the membership."
   ]
  },
  {
   "cell_type": "code",
   "execution_count": 61,
   "id": "f039a1f1",
   "metadata": {},
   "outputs": [
    {
     "name": "stdout",
     "output_type": "stream",
     "text": [
      "{0, 1, 2, 3}\n"
     ]
    }
   ],
   "source": [
    "mySet = {0, 1, 2, 3}\n",
    "print(mySet)"
   ]
  },
  {
   "cell_type": "code",
   "execution_count": 62,
   "id": "d31fce29",
   "metadata": {},
   "outputs": [
    {
     "name": "stdout",
     "output_type": "stream",
     "text": [
      "{0, 1, 2, 3}\n"
     ]
    }
   ],
   "source": [
    "mySet = {0, 0, 0, 1, 2, 2, 3}\n",
    "print(mySet)"
   ]
  },
  {
   "cell_type": "code",
   "execution_count": 63,
   "id": "b08513ae",
   "metadata": {},
   "outputs": [
    {
     "name": "stdout",
     "output_type": "stream",
     "text": [
      "['Ram', 'Mohan', 'Abdul', 'John', 'Ram']\n"
     ]
    }
   ],
   "source": [
    "myList = ['Ram', 'Mohan', 'Abdul', 'John', 'Ram']\n",
    "print(myList)"
   ]
  },
  {
   "cell_type": "code",
   "execution_count": 64,
   "id": "ea9628eb",
   "metadata": {},
   "outputs": [],
   "source": [
    "mySet = set(myList)"
   ]
  },
  {
   "cell_type": "code",
   "execution_count": 65,
   "id": "654582b4",
   "metadata": {},
   "outputs": [
    {
     "name": "stdout",
     "output_type": "stream",
     "text": [
      "{'Abdul', 'John', 'Ram', 'Mohan'}\n"
     ]
    }
   ],
   "source": [
    "print(mySet)"
   ]
  },
  {
   "cell_type": "code",
   "execution_count": 68,
   "id": "0169db83",
   "metadata": {},
   "outputs": [
    {
     "name": "stdout",
     "output_type": "stream",
     "text": [
      "set()\n"
     ]
    }
   ],
   "source": [
    "myEmptySet = set()\n",
    "print(myEmptySet)"
   ]
  },
  {
   "cell_type": "code",
   "execution_count": 69,
   "id": "6b776f4e",
   "metadata": {},
   "outputs": [
    {
     "data": {
      "text/plain": [
       "{' ', 'N', 'P', 'a', 'h', 'i', 'k', 'n', 'r', 's'}"
      ]
     },
     "execution_count": 69,
     "metadata": {},
     "output_type": "execute_result"
    }
   ],
   "source": [
    "set('Nishank Parashar') # string to set"
   ]
  },
  {
   "cell_type": "code",
   "execution_count": 70,
   "id": "fbac01a5",
   "metadata": {},
   "outputs": [
    {
     "data": {
      "text/plain": [
       "{' ', 'a', 'h', 'i', 'k', 'n', 'p', 'r', 's'}"
      ]
     },
     "execution_count": 70,
     "metadata": {},
     "output_type": "execute_result"
    }
   ],
   "source": [
    "set('Nihsank Parashar'.lower())"
   ]
  },
  {
   "cell_type": "code",
   "execution_count": 71,
   "id": "badb5646",
   "metadata": {},
   "outputs": [
    {
     "data": {
      "text/plain": [
       "{'Biology', 'Maths', 'Physics'}"
      ]
     },
     "execution_count": 71,
     "metadata": {},
     "output_type": "execute_result"
    }
   ],
   "source": [
    "set(['Maths', 'Physics', 'Biology']) # list to set"
   ]
  },
  {
   "cell_type": "code",
   "execution_count": 72,
   "id": "6e8ce524",
   "metadata": {},
   "outputs": [
    {
     "data": {
      "text/plain": [
       "{'Biology', 'Maths', 'Physics'}"
      ]
     },
     "execution_count": 72,
     "metadata": {},
     "output_type": "execute_result"
    }
   ],
   "source": [
    "set(('Maths', 'Physics', 'Biology')) # tuple to set"
   ]
  },
  {
   "cell_type": "code",
   "execution_count": 74,
   "id": "3bc90cb0",
   "metadata": {},
   "outputs": [
    {
     "data": {
      "text/plain": [
       "{'Jack', 'Rick', 'Ron'}"
      ]
     },
     "execution_count": 74,
     "metadata": {},
     "output_type": "execute_result"
    }
   ],
   "source": [
    "set({'Ron':101, 'Jack':102, 'Rick':103}) # dictionary to set"
   ]
  },
  {
   "cell_type": "code",
   "execution_count": 75,
   "id": "6212149f",
   "metadata": {},
   "outputs": [
    {
     "data": {
      "text/plain": [
       "4"
      ]
     },
     "execution_count": 75,
     "metadata": {},
     "output_type": "execute_result"
    }
   ],
   "source": [
    "len(mySet)"
   ]
  },
  {
   "cell_type": "code",
   "execution_count": 89,
   "id": "b81121bb",
   "metadata": {},
   "outputs": [
    {
     "name": "stdout",
     "output_type": "stream",
     "text": [
      "{0, 1, 2, 3, 8}\n"
     ]
    }
   ],
   "source": [
    "mySet = {0, 1, 2, 3}\n",
    "mySet.add(8)\n",
    "print(mySet)"
   ]
  },
  {
   "cell_type": "code",
   "execution_count": 90,
   "id": "b4ebcb33",
   "metadata": {},
   "outputs": [],
   "source": [
    "mySet.update([4, 2, 7])"
   ]
  },
  {
   "cell_type": "code",
   "execution_count": 91,
   "id": "dc0fe9ca",
   "metadata": {},
   "outputs": [
    {
     "name": "stdout",
     "output_type": "stream",
     "text": [
      "{0, 1, 2, 3, 4, 7, 8}\n"
     ]
    }
   ],
   "source": [
    "print(mySet)"
   ]
  },
  {
   "cell_type": "code",
   "execution_count": 92,
   "id": "91bc8a5b",
   "metadata": {},
   "outputs": [
    {
     "name": "stdout",
     "output_type": "stream",
     "text": [
      "{0, 1, 2, 3, 4, 7}\n"
     ]
    }
   ],
   "source": [
    "mySet.remove(8)\n",
    "print(mySet)"
   ]
  },
  {
   "cell_type": "code",
   "execution_count": 95,
   "id": "e20a3dd0",
   "metadata": {},
   "outputs": [],
   "source": [
    "set1 = {0, 1, 2, 3}\n",
    "set2 =  {2, 3, 4, 5}"
   ]
  },
  {
   "cell_type": "code",
   "execution_count": 96,
   "id": "5e89ea87",
   "metadata": {},
   "outputs": [
    {
     "data": {
      "text/plain": [
       "{0, 1, 2, 3, 4, 5}"
      ]
     },
     "execution_count": 96,
     "metadata": {},
     "output_type": "execute_result"
    }
   ],
   "source": [
    "set1.union(set2)"
   ]
  },
  {
   "cell_type": "code",
   "execution_count": 97,
   "id": "20609738",
   "metadata": {},
   "outputs": [
    {
     "data": {
      "text/plain": [
       "{0, 1, 2, 3, 4, 5}"
      ]
     },
     "execution_count": 97,
     "metadata": {},
     "output_type": "execute_result"
    }
   ],
   "source": [
    "set1 | set2"
   ]
  },
  {
   "cell_type": "code",
   "execution_count": 98,
   "id": "4be3a7cb",
   "metadata": {},
   "outputs": [
    {
     "data": {
      "text/plain": [
       "{2, 3}"
      ]
     },
     "execution_count": 98,
     "metadata": {},
     "output_type": "execute_result"
    }
   ],
   "source": [
    "set1.intersection(set2)"
   ]
  },
  {
   "cell_type": "code",
   "execution_count": 99,
   "id": "af2f214b",
   "metadata": {},
   "outputs": [
    {
     "data": {
      "text/plain": [
       "{2, 3}"
      ]
     },
     "execution_count": 99,
     "metadata": {},
     "output_type": "execute_result"
    }
   ],
   "source": [
    "set1 & set2"
   ]
  },
  {
   "cell_type": "code",
   "execution_count": 100,
   "id": "5b905c2d",
   "metadata": {},
   "outputs": [
    {
     "data": {
      "text/plain": [
       "{0, 1}"
      ]
     },
     "execution_count": 100,
     "metadata": {},
     "output_type": "execute_result"
    }
   ],
   "source": [
    "set1.difference(set2)"
   ]
  },
  {
   "cell_type": "code",
   "execution_count": 101,
   "id": "eeaef70e",
   "metadata": {},
   "outputs": [
    {
     "data": {
      "text/plain": [
       "{0, 1}"
      ]
     },
     "execution_count": 101,
     "metadata": {},
     "output_type": "execute_result"
    }
   ],
   "source": [
    "set1 - set2"
   ]
  },
  {
   "cell_type": "code",
   "execution_count": 103,
   "id": "44835a0e",
   "metadata": {},
   "outputs": [
    {
     "data": {
      "text/plain": [
       "{0, 1, 4, 5}"
      ]
     },
     "execution_count": 103,
     "metadata": {},
     "output_type": "execute_result"
    }
   ],
   "source": [
    "set1.symmetric_difference(set2)"
   ]
  },
  {
   "cell_type": "code",
   "execution_count": 104,
   "id": "994fa4b0",
   "metadata": {},
   "outputs": [
    {
     "data": {
      "text/plain": [
       "{0, 1, 4, 5}"
      ]
     },
     "execution_count": 104,
     "metadata": {},
     "output_type": "execute_result"
    }
   ],
   "source": [
    "set1 ^ set2"
   ]
  },
  {
   "cell_type": "code",
   "execution_count": 105,
   "id": "47d784c3",
   "metadata": {},
   "outputs": [
    {
     "data": {
      "text/plain": [
       "False"
      ]
     },
     "execution_count": 105,
     "metadata": {},
     "output_type": "execute_result"
    }
   ],
   "source": [
    "4 in set1"
   ]
  },
  {
   "cell_type": "code",
   "execution_count": 107,
   "id": "348af2ae",
   "metadata": {},
   "outputs": [
    {
     "data": {
      "text/plain": [
       "False"
      ]
     },
     "execution_count": 107,
     "metadata": {},
     "output_type": "execute_result"
    }
   ],
   "source": [
    "set1.issubset(set2)"
   ]
  },
  {
   "cell_type": "code",
   "execution_count": 108,
   "id": "12b102c7",
   "metadata": {},
   "outputs": [
    {
     "data": {
      "text/plain": [
       "False"
      ]
     },
     "execution_count": 108,
     "metadata": {},
     "output_type": "execute_result"
    }
   ],
   "source": [
    "set1 <= set2"
   ]
  },
  {
   "cell_type": "code",
   "execution_count": 109,
   "id": "43e429f1",
   "metadata": {},
   "outputs": [
    {
     "data": {
      "text/plain": [
       "False"
      ]
     },
     "execution_count": 109,
     "metadata": {},
     "output_type": "execute_result"
    }
   ],
   "source": [
    "set1.issuperset(set2)"
   ]
  },
  {
   "cell_type": "code",
   "execution_count": 110,
   "id": "3150c794",
   "metadata": {},
   "outputs": [
    {
     "data": {
      "text/plain": [
       "False"
      ]
     },
     "execution_count": 110,
     "metadata": {},
     "output_type": "execute_result"
    }
   ],
   "source": [
    "set1 >= set2"
   ]
  },
  {
   "cell_type": "markdown",
   "id": "9254afc0",
   "metadata": {},
   "source": [
    "So when you are using Python sets in your program, think of them as a mathematical set and look for the methods to get things done.\n",
    "\n",
    "Python set is an unordered data set.\n",
    "That means they do not have an index, so you cannot access an element in the set."
   ]
  },
  {
   "cell_type": "code",
   "execution_count": 113,
   "id": "2bd56c49",
   "metadata": {},
   "outputs": [
    {
     "name": "stdout",
     "output_type": "stream",
     "text": [
      "0\n",
      "1\n",
      "2\n",
      "3\n"
     ]
    }
   ],
   "source": [
    "set1 = {0, 1, 2, 3}\n",
    "\n",
    "for i in set1:\n",
    "    print(i)"
   ]
  },
  {
   "cell_type": "markdown",
   "id": "d8211594",
   "metadata": {},
   "source": [
    "FrozenSet is Immutable."
   ]
  },
  {
   "cell_type": "code",
   "execution_count": 115,
   "id": "7b275f28",
   "metadata": {},
   "outputs": [
    {
     "name": "stdout",
     "output_type": "stream",
     "text": [
      "frozenset({1, 2, 4})\n"
     ]
    }
   ],
   "source": [
    "myFrozenSet = frozenset({1, 2, 4})\n",
    "print(myFrozenSet)"
   ]
  },
  {
   "cell_type": "markdown",
   "id": "80ccdf12",
   "metadata": {},
   "source": [
    "Python doesn't have a standard module for date and time.\n",
    "So, if you want to work with Date and Time, you must import the datetime module from the Python library.\n",
    "\n",
    "The date-time module offers you, four primary classes to efficiently work with the date and time.\n",
    "1. date\n",
    "2. time\n",
    "3. datetime\n",
    "4. timedelta\n",
    "\n",
    "All the objects of these classes are immutable.\n",
    "\n",
    "The date class offers a bunch of other methods such as weekday(), replace(), strftime(), etc."
   ]
  },
  {
   "cell_type": "code",
   "execution_count": 116,
   "id": "6cffce95",
   "metadata": {},
   "outputs": [],
   "source": [
    "from datetime import date"
   ]
  },
  {
   "cell_type": "code",
   "execution_count": 121,
   "id": "88302a5d",
   "metadata": {},
   "outputs": [
    {
     "name": "stdout",
     "output_type": "stream",
     "text": [
      "1998-11-14\n"
     ]
    }
   ],
   "source": [
    "dob = date(1998,11,14)\n",
    "print(dob)"
   ]
  },
  {
   "cell_type": "code",
   "execution_count": 122,
   "id": "212e0a8b",
   "metadata": {},
   "outputs": [
    {
     "data": {
      "text/plain": [
       "datetime.date(2021, 10, 14)"
      ]
     },
     "execution_count": 122,
     "metadata": {},
     "output_type": "execute_result"
    }
   ],
   "source": [
    "date.today()"
   ]
  },
  {
   "cell_type": "code",
   "execution_count": 123,
   "id": "7e98b737",
   "metadata": {},
   "outputs": [
    {
     "name": "stdout",
     "output_type": "stream",
     "text": [
      "1998\n",
      "11\n",
      "14\n"
     ]
    }
   ],
   "source": [
    "print(dob.year)\n",
    "print(dob.month)\n",
    "print(dob.day)"
   ]
  },
  {
   "cell_type": "code",
   "execution_count": 124,
   "id": "e60c22ed",
   "metadata": {},
   "outputs": [
    {
     "data": {
      "text/plain": [
       "'Saturday 14 - Nov 1998'"
      ]
     },
     "execution_count": 124,
     "metadata": {},
     "output_type": "execute_result"
    }
   ],
   "source": [
    "dob.strftime(\"%A %d - %b %Y\")"
   ]
  },
  {
   "cell_type": "markdown",
   "id": "3f459a20",
   "metadata": {},
   "source": [
    "https://docs.python.org/3/library/datetime.html"
   ]
  },
  {
   "cell_type": "code",
   "execution_count": 125,
   "id": "695e9938",
   "metadata": {},
   "outputs": [],
   "source": [
    "from datetime import time"
   ]
  },
  {
   "cell_type": "code",
   "execution_count": 126,
   "id": "b72a289f",
   "metadata": {},
   "outputs": [
    {
     "name": "stdout",
     "output_type": "stream",
     "text": [
      "11:22:48.000090\n"
     ]
    }
   ],
   "source": [
    "meet = time(11,22,48,90)\n",
    "print(meet)"
   ]
  },
  {
   "cell_type": "markdown",
   "id": "069791df",
   "metadata": {},
   "source": [
    "So, the time function takes four arguments - hour, minute, second, and microsecond.\n",
    "\n",
    "All the arguments are optional, and the default value is assumed to be zero.\n",
    "\n",
    "Same as the date() function, the time() function also implements stringent validation, and you cannot supply invalid values."
   ]
  },
  {
   "cell_type": "code",
   "execution_count": 127,
   "id": "79f7925e",
   "metadata": {
    "scrolled": true
   },
   "outputs": [
    {
     "name": "stdout",
     "output_type": "stream",
     "text": [
      "11\n",
      "22\n",
      "48\n",
      "90\n"
     ]
    }
   ],
   "source": [
    "print(meet.hour)\n",
    "print(meet.minute)\n",
    "print(meet.second)\n",
    "print(meet.microsecond)"
   ]
  },
  {
   "cell_type": "code",
   "execution_count": 129,
   "id": "06bf74f3",
   "metadata": {},
   "outputs": [
    {
     "name": "stdout",
     "output_type": "stream",
     "text": [
      "1998-11-14 11:22:48.000090\n"
     ]
    }
   ],
   "source": [
    "from datetime import datetime\n",
    "\n",
    "dob_time = datetime(1998,11,14,11,22,48,90)\n",
    "print(dob_time)"
   ]
  },
  {
   "cell_type": "code",
   "execution_count": 130,
   "id": "476cad9c",
   "metadata": {},
   "outputs": [
    {
     "name": "stdout",
     "output_type": "stream",
     "text": [
      "2 days, 2:33:00\n"
     ]
    }
   ],
   "source": [
    "from datetime import timedelta\n",
    "\n",
    "duration = timedelta(days = 2, hours = 2, minutes = 33)\n",
    "print(duration)\n",
    "# Python internally stores the duration in days, seconds, and microseconds only."
   ]
  },
  {
   "cell_type": "code",
   "execution_count": 131,
   "id": "e1d97999",
   "metadata": {},
   "outputs": [],
   "source": [
    "dob1 = datetime(1998,11,14)\n",
    "dob2 = datetime(1999,1,15)"
   ]
  },
  {
   "cell_type": "code",
   "execution_count": 133,
   "id": "5b6cd74c",
   "metadata": {},
   "outputs": [
    {
     "data": {
      "text/plain": [
       "datetime.timedelta(days=62)"
      ]
     },
     "execution_count": 133,
     "metadata": {},
     "output_type": "execute_result"
    }
   ],
   "source": [
    "dob2 - dob1"
   ]
  },
  {
   "cell_type": "code",
   "execution_count": 134,
   "id": "d3733a5a",
   "metadata": {},
   "outputs": [
    {
     "data": {
      "text/plain": [
       "datetime.datetime(1998, 11, 12, 0, 0)"
      ]
     },
     "execution_count": 134,
     "metadata": {},
     "output_type": "execute_result"
    }
   ],
   "source": [
    "duration = timedelta(days = 2)\n",
    "\n",
    "dob1 - duration"
   ]
  },
  {
   "cell_type": "markdown",
   "id": "df5797ee",
   "metadata": {},
   "source": [
    "Python dosen't allows any kind of arthimatic operation on the time object."
   ]
  },
  {
   "cell_type": "code",
   "execution_count": null,
   "id": "c71b5b38",
   "metadata": {},
   "outputs": [],
   "source": []
  }
 ],
 "metadata": {
  "kernelspec": {
   "display_name": "Python 3",
   "language": "python",
   "name": "python3"
  },
  "language_info": {
   "codemirror_mode": {
    "name": "ipython",
    "version": 3
   },
   "file_extension": ".py",
   "mimetype": "text/x-python",
   "name": "python",
   "nbconvert_exporter": "python",
   "pygments_lexer": "ipython3",
   "version": "3.8.8"
  }
 },
 "nbformat": 4,
 "nbformat_minor": 5
}
