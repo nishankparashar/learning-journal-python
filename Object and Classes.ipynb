{
 "cells": [
  {
   "cell_type": "markdown",
   "id": "50fa7764",
   "metadata": {},
   "source": [
    "A class is a blueprint, and the object is the materialization of the blueprint.\n",
    "\n",
    "class class_name:\n",
    "\n",
    "    #class body\n",
    "    \n",
    "A typical class body contains two things.\n",
    "\n",
    "1. Variables \n",
    "2. Functions\n",
    "\n",
    "The variables are also termed as attributes.\n",
    "And functions are also known as methods.\n",
    "\n",
    "Python classes are used in two ways.\n",
    "\n",
    "- The first approach is to use the class as a namespace.\n",
    "- The second approach is to use the class as a blueprint for creating objects.\n",
    "\n",
    "Note - We also have a third approach where we mix the first and second approaches."
   ]
  },
  {
   "cell_type": "code",
   "execution_count": 8,
   "id": "c8808989",
   "metadata": {},
   "outputs": [],
   "source": [
    "class MyClass:\n",
    "    my_num = 1234\n",
    "    def say_hello(name):\n",
    "        print('Hello ' + name)"
   ]
  },
  {
   "cell_type": "code",
   "execution_count": 9,
   "id": "1e1b13b3",
   "metadata": {},
   "outputs": [
    {
     "data": {
      "text/plain": [
       "1234"
      ]
     },
     "execution_count": 9,
     "metadata": {},
     "output_type": "execute_result"
    }
   ],
   "source": [
    "MyClass.my_num"
   ]
  },
  {
   "cell_type": "code",
   "execution_count": 10,
   "id": "b26fee30",
   "metadata": {},
   "outputs": [],
   "source": [
    "MyClass.my_num = 4567"
   ]
  },
  {
   "cell_type": "code",
   "execution_count": 11,
   "id": "99edaebc",
   "metadata": {},
   "outputs": [
    {
     "data": {
      "text/plain": [
       "4567"
      ]
     },
     "execution_count": 11,
     "metadata": {},
     "output_type": "execute_result"
    }
   ],
   "source": [
    "MyClass.my_num"
   ]
  },
  {
   "cell_type": "code",
   "execution_count": 12,
   "id": "3805aebd",
   "metadata": {},
   "outputs": [
    {
     "name": "stdout",
     "output_type": "stream",
     "text": [
      "Hello Nishank!\n"
     ]
    }
   ],
   "source": [
    "MyClass.say_hello('Nishank!')"
   ]
  },
  {
   "cell_type": "markdown",
   "id": "31268861",
   "metadata": {},
   "source": [
    "The init method takes at least one argument - the self argument.\n",
    "The self argument must be the first argument of the init method.\n",
    "\n",
    "The initializer's primary purpose is to create an object and set the initial state of the object."
   ]
  },
  {
   "cell_type": "code",
   "execution_count": 13,
   "id": "74a2b934",
   "metadata": {},
   "outputs": [],
   "source": [
    "class Car:\n",
    "    def __init__(self, name, brand):\n",
    "        self.model_name = name\n",
    "        self.model_brand = brand\n",
    "        \n",
    "    def launch(self):\n",
    "        print(f'{self.model_name} by {self.model_brand} launched.')"
   ]
  },
  {
   "cell_type": "code",
   "execution_count": 15,
   "id": "49c17096",
   "metadata": {},
   "outputs": [],
   "source": [
    "car1 = Car('Hector', 'MG')"
   ]
  },
  {
   "cell_type": "markdown",
   "id": "065553df",
   "metadata": {},
   "source": [
    "A typical Python class can have zero or more instance variables.\n",
    "\n",
    "The Car has got two instance variables.\n",
    "Model name and Brand name.\n",
    "\n",
    "We never declare an instance variable in the class.\n",
    "Instead, we assign a value to a new variable, and Python automatically creates an instance variable.\n",
    "\n",
    "All instance variables should be created prefixing the self."
   ]
  },
  {
   "cell_type": "code",
   "execution_count": 16,
   "id": "06b04149",
   "metadata": {},
   "outputs": [
    {
     "data": {
      "text/plain": [
       "'Hector'"
      ]
     },
     "execution_count": 16,
     "metadata": {},
     "output_type": "execute_result"
    }
   ],
   "source": [
    "car1.model_name"
   ]
  },
  {
   "cell_type": "code",
   "execution_count": 17,
   "id": "4a5ef123",
   "metadata": {},
   "outputs": [],
   "source": [
    "car1.model_name = 'Hector Plus'"
   ]
  },
  {
   "cell_type": "code",
   "execution_count": 18,
   "id": "f64d3c80",
   "metadata": {},
   "outputs": [
    {
     "data": {
      "text/plain": [
       "'Hector Plus'"
      ]
     },
     "execution_count": 18,
     "metadata": {},
     "output_type": "execute_result"
    }
   ],
   "source": [
    "car1.model_name"
   ]
  },
  {
   "cell_type": "code",
   "execution_count": 19,
   "id": "d3949b23",
   "metadata": {},
   "outputs": [],
   "source": [
    "car2 = Car('i20', 'Hyundai')"
   ]
  },
  {
   "cell_type": "code",
   "execution_count": 20,
   "id": "dcdcf995",
   "metadata": {},
   "outputs": [
    {
     "data": {
      "text/plain": [
       "'i20'"
      ]
     },
     "execution_count": 20,
     "metadata": {},
     "output_type": "execute_result"
    }
   ],
   "source": [
    "car2.model_name"
   ]
  },
  {
   "cell_type": "code",
   "execution_count": 22,
   "id": "90870d19",
   "metadata": {},
   "outputs": [
    {
     "name": "stdout",
     "output_type": "stream",
     "text": [
      "Hector Plus by MG launched.\n"
     ]
    }
   ],
   "source": [
    "car1.launch()"
   ]
  },
  {
   "cell_type": "code",
   "execution_count": 23,
   "id": "ff3566be",
   "metadata": {},
   "outputs": [
    {
     "name": "stdout",
     "output_type": "stream",
     "text": [
      "i20 by Hyundai launched.\n"
     ]
    }
   ],
   "source": [
    "car2.launch()"
   ]
  },
  {
   "cell_type": "markdown",
   "id": "ca902243",
   "metadata": {},
   "source": [
    "Python Class is a blueprint for creating objects.\n",
    "\n",
    "You can create a Python class using the class keyword and define a class name.\n",
    "\n",
    "The class body can have three things.\n",
    "\n",
    "1. Class initializer\n",
    "2. Instance Variables\n",
    "3. Class Methods\n",
    "\n",
    "The primary purpose of the class initializer is to set an initial value for the required instance variables.\n",
    "\n",
    "Instance, variables are automatically created when you set a value for a new instance variable name.\n",
    "\n",
    "You can create class methods inside the class body. A class method must have the first argument for the self.\n",
    "\n",
    "The self argument is always passed by Python, and it remains hidden from the class users.\n",
    "\n",
    "We always name the self variable as self. However, we can name it whatever you want."
   ]
  },
  {
   "cell_type": "code",
   "execution_count": 74,
   "id": "c8b3c502",
   "metadata": {},
   "outputs": [],
   "source": [
    "class Car:\n",
    "    def __init__(self):\n",
    "        self.current_state = 'Standing'\n",
    "        self.current_speed = 0\n",
    "    \n",
    "    def start(self):\n",
    "        self.current_state = 'Running'\n",
    "        self.current_speed = 10\n",
    "        \n",
    "    def stop(self):\n",
    "        self.current_state = 'Standing'\n",
    "        self.current_speed = 0\n",
    "        \n",
    "    def speed_up(self, speed):\n",
    "        if self.current_state == 'Standing':\n",
    "            self.start()\n",
    "        self.current_speed += speed\n",
    "        \n",
    "    def speed_down(self, speed):\n",
    "        if self.current_state == 'Running':\n",
    "            self.current_speed -= speed\n",
    "            \n",
    "    def show_state(self):\n",
    "        print(f\"{self.current_state} and current speed is {self.current_speed}.\")"
   ]
  },
  {
   "cell_type": "code",
   "execution_count": 75,
   "id": "7d90e147",
   "metadata": {},
   "outputs": [],
   "source": [
    "car1 = Car()"
   ]
  },
  {
   "cell_type": "code",
   "execution_count": 76,
   "id": "432deda9",
   "metadata": {},
   "outputs": [
    {
     "name": "stdout",
     "output_type": "stream",
     "text": [
      "Standing and current speed is 0.\n"
     ]
    }
   ],
   "source": [
    "car1.show_state()"
   ]
  },
  {
   "cell_type": "code",
   "execution_count": 77,
   "id": "c3c0692a",
   "metadata": {},
   "outputs": [],
   "source": [
    "class Hector(Car):\n",
    "    pass"
   ]
  },
  {
   "cell_type": "code",
   "execution_count": 78,
   "id": "33d8a1d3",
   "metadata": {},
   "outputs": [],
   "source": [
    "h1 = Hector()"
   ]
  },
  {
   "cell_type": "code",
   "execution_count": 79,
   "id": "692512f6",
   "metadata": {},
   "outputs": [
    {
     "name": "stdout",
     "output_type": "stream",
     "text": [
      "Standing and current speed is 0.\n"
     ]
    }
   ],
   "source": [
    "h1.show_state()"
   ]
  },
  {
   "cell_type": "code",
   "execution_count": 80,
   "id": "39d0e394",
   "metadata": {},
   "outputs": [],
   "source": [
    "class Hector(Car):\n",
    "    def show_state(self):\n",
    "        print(f\"Hector is {self.current_state} and current speed is {self.current_speed}.\")\n",
    "        \n",
    "    def park(self):\n",
    "        self.current_state = 'Parked'\n",
    "        self.current_speed = 0"
   ]
  },
  {
   "cell_type": "code",
   "execution_count": 81,
   "id": "26c348fc",
   "metadata": {},
   "outputs": [
    {
     "name": "stdout",
     "output_type": "stream",
     "text": [
      "Hector is Standing and current speed is 0.\n"
     ]
    }
   ],
   "source": [
    "h1 = Hector()\n",
    "h1.show_state()"
   ]
  },
  {
   "cell_type": "markdown",
   "id": "61a38491",
   "metadata": {},
   "source": [
    "You can inherit all the functionalities of an existing class.\n",
    "You can override some of the functionalities like I am overriding the show_state() method.\n",
    "You can also add new functionalities to your new class."
   ]
  },
  {
   "cell_type": "code",
   "execution_count": 83,
   "id": "3bbbd280",
   "metadata": {},
   "outputs": [
    {
     "name": "stdout",
     "output_type": "stream",
     "text": [
      "Hector is Running and current speed is 10.\n",
      "Hector is Running and current speed is 40.\n",
      "Hector is Running and current speed is 30.\n",
      "Hector is Parked and current speed is 0.\n"
     ]
    }
   ],
   "source": [
    "h1.start()\n",
    "h1.show_state()\n",
    "h1.speed_up(30)\n",
    "h1.show_state()\n",
    "h1.speed_down(10)\n",
    "h1.show_state()\n",
    "h1.park()\n",
    "h1.show_state()"
   ]
  },
  {
   "cell_type": "markdown",
   "id": "1b817872",
   "metadata": {},
   "source": [
    "You must understand the difference between class attributes and Instance attributes.\n",
    "\n",
    "- Class methods and class variables are defined without the self.\n",
    "Instance methods, and instance variables are defined with the self.\n",
    "\n",
    "- Call attributes can be accessed using the class name.\n",
    "Instance attributes can be accessed using the object of the class.\n",
    "\n",
    "- Class variables are shared by all objects of the class.\n",
    "Instance variables are not shared."
   ]
  },
  {
   "cell_type": "code",
   "execution_count": 108,
   "id": "d12fc811",
   "metadata": {},
   "outputs": [],
   "source": [
    "class Car:\n",
    "    brand = 'MG Hector'\n",
    "    \n",
    "    @classmethod #decorator\n",
    "    def launch_year(cls):\n",
    "        return 2020\n",
    "    \n",
    "    def __init__(self):\n",
    "        self.current_state = 'Standing'\n",
    "        self.current_speed = 0\n",
    "            \n",
    "    def show_state(self):\n",
    "        print(f\"{self.brand} is {self.current_state} and current speed is {self.current_speed}.\")"
   ]
  },
  {
   "cell_type": "code",
   "execution_count": 109,
   "id": "876c9f02",
   "metadata": {},
   "outputs": [],
   "source": [
    "car1  = Car()"
   ]
  },
  {
   "cell_type": "code",
   "execution_count": 110,
   "id": "00d98d7a",
   "metadata": {},
   "outputs": [],
   "source": [
    "car2 = Car()"
   ]
  },
  {
   "cell_type": "code",
   "execution_count": 111,
   "id": "c3fd6c71",
   "metadata": {},
   "outputs": [],
   "source": [
    "car1.current_speed = 10\n",
    "car1.current_state = 'Running'"
   ]
  },
  {
   "cell_type": "code",
   "execution_count": 112,
   "id": "246c2817",
   "metadata": {},
   "outputs": [
    {
     "name": "stdout",
     "output_type": "stream",
     "text": [
      "MG Hector is Running and current speed is 10.\n"
     ]
    }
   ],
   "source": [
    "car1.show_state()"
   ]
  },
  {
   "cell_type": "code",
   "execution_count": 113,
   "id": "e44a241a",
   "metadata": {},
   "outputs": [
    {
     "name": "stdout",
     "output_type": "stream",
     "text": [
      "MG Hector is Standing and current speed is 0.\n"
     ]
    }
   ],
   "source": [
    "car2.show_state()"
   ]
  },
  {
   "cell_type": "markdown",
   "id": "037ad3af",
   "metadata": {},
   "source": [
    "So the instance variable of car1 and car2 are not shared.\n",
    "If you change the instance variable for one object, the other object remains unchanged."
   ]
  },
  {
   "cell_type": "code",
   "execution_count": 114,
   "id": "be1d7973",
   "metadata": {},
   "outputs": [],
   "source": [
    "Car.brand = 'MG Hector Plus'"
   ]
  },
  {
   "cell_type": "code",
   "execution_count": 115,
   "id": "81049a95",
   "metadata": {},
   "outputs": [
    {
     "name": "stdout",
     "output_type": "stream",
     "text": [
      "MG Hector Plus is Running and current speed is 10.\n",
      "MG Hector Plus is Standing and current speed is 0.\n"
     ]
    }
   ],
   "source": [
    "car1.show_state()\n",
    "car2.show_state()"
   ]
  },
  {
   "cell_type": "markdown",
   "id": "2f984546",
   "metadata": {},
   "source": [
    "So the class variable is shared among the objects.\n",
    "Any change in the class variable will change it for all the objects of the same class."
   ]
  },
  {
   "cell_type": "code",
   "execution_count": 116,
   "id": "fc331bc3",
   "metadata": {},
   "outputs": [
    {
     "data": {
      "text/plain": [
       "2020"
      ]
     },
     "execution_count": 116,
     "metadata": {},
     "output_type": "execute_result"
    }
   ],
   "source": [
    "Car.launch_year()"
   ]
  },
  {
   "cell_type": "markdown",
   "id": "970a4ac7",
   "metadata": {},
   "source": [
    "However, we cannot access the class method using the object.\n",
    "\n",
    "A decorator is a design pattern\n",
    "that allows us to add new functionality to an existing object without modifying its structure."
   ]
  },
  {
   "cell_type": "code",
   "execution_count": 117,
   "id": "3024cbf8",
   "metadata": {},
   "outputs": [
    {
     "data": {
      "text/plain": [
       "2020"
      ]
     },
     "execution_count": 117,
     "metadata": {},
     "output_type": "execute_result"
    }
   ],
   "source": [
    "car1.launch_year()"
   ]
  },
  {
   "cell_type": "markdown",
   "id": "c8a7a55b",
   "metadata": {},
   "source": [
    "Each .py file becomes a python module.\n",
    "\n",
    "You can have some definitions in your module, and you can also have executable code in the module.\n",
    "\n",
    "If you do not want to execute some code in your module on importing it, you must place it in the if block checking for the main module.\n",
    "\n",
    "In a typical python application, we keep definitions in separate modules and create a main entry point for the application to start it."
   ]
  },
  {
   "cell_type": "markdown",
   "id": "7cf83ebc",
   "metadata": {},
   "source": [
    "Logically grouping my modules and organizing them in the Python package directory.\n",
    "And that the purpose of a Python package.\n",
    "\n"
   ]
  },
  {
   "cell_type": "markdown",
   "id": "87846a82",
   "metadata": {},
   "source": [
    "A package is basically a directory with Python files and a file with the name __init__.py.\n",
    "And these packages are a way of structuring Python modules by using \"dotted directory names.\"\n",
    "\n",
    "You can import your class definitions and functions from other modules and use them in the current module.\n",
    "\n",
    "Importing objects from other modules are allowed in several formats.\n",
    "\n",
    "The most commonly used format is this.\n",
    "You can import multiple objects from the same package supplying a comma-separated list.\n",
    "\n",
    "If you want to import objects from two different packages, you can add one more import statement.\n",
    "\n",
    "If you want to import all the objects, you can use the *.\n",
    "\n",
    "However, importing all using a * is considered a bad practice."
   ]
  },
  {
   "cell_type": "code",
   "execution_count": null,
   "id": "720d2a9b",
   "metadata": {},
   "outputs": [],
   "source": []
  }
 ],
 "metadata": {
  "kernelspec": {
   "display_name": "Python 3",
   "language": "python",
   "name": "python3"
  },
  "language_info": {
   "codemirror_mode": {
    "name": "ipython",
    "version": 3
   },
   "file_extension": ".py",
   "mimetype": "text/x-python",
   "name": "python",
   "nbconvert_exporter": "python",
   "pygments_lexer": "ipython3",
   "version": "3.8.8"
  }
 },
 "nbformat": 4,
 "nbformat_minor": 5
}
