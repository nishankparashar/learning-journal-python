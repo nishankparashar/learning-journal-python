{
 "cells": [
  {
   "cell_type": "markdown",
   "id": "5c80f0a3",
   "metadata": {},
   "source": [
    "A function is a set of statements with the following characteristics.\n",
    "\n",
    "1. It takes one or more input values\n",
    "2. Performs the desired task\n",
    "3. Returns or produces some output\n",
    "4. It can be called from other places in your code\n",
    "\n",
    "Functions are of two types.\n",
    "\n",
    "1. Built-in functions\n",
    "2. User-defined functions\n",
    "\n",
    "https://docs.python.org/3/library/functions.html#built-in-functions"
   ]
  },
  {
   "cell_type": "code",
   "execution_count": 1,
   "id": "75548ff5",
   "metadata": {},
   "outputs": [],
   "source": [
    "tuple_1 = (5, 10, 15, 20)"
   ]
  },
  {
   "cell_type": "code",
   "execution_count": 2,
   "id": "cfc51754",
   "metadata": {},
   "outputs": [
    {
     "data": {
      "text/plain": [
       "5"
      ]
     },
     "execution_count": 2,
     "metadata": {},
     "output_type": "execute_result"
    }
   ],
   "source": [
    "min(tuple_1)"
   ]
  },
  {
   "cell_type": "code",
   "execution_count": 3,
   "id": "7b1207f2",
   "metadata": {},
   "outputs": [
    {
     "data": {
      "text/plain": [
       "4"
      ]
     },
     "execution_count": 3,
     "metadata": {},
     "output_type": "execute_result"
    }
   ],
   "source": [
    "len(tuple_1)"
   ]
  },
  {
   "cell_type": "markdown",
   "id": "201e1437",
   "metadata": {},
   "source": [
    "def function_name(parameter_1, parameter_2,..):\n",
    "    \n",
    "    statements\n",
    "    \n",
    "    ...."
   ]
  },
  {
   "cell_type": "code",
   "execution_count": 4,
   "id": "c1968934",
   "metadata": {},
   "outputs": [],
   "source": [
    "def even_or_odd(a):\n",
    "    if a % 2 == 0:\n",
    "        print('Even')\n",
    "    else:\n",
    "        print('Odd')"
   ]
  },
  {
   "cell_type": "code",
   "execution_count": 5,
   "id": "f1e032a8",
   "metadata": {},
   "outputs": [
    {
     "name": "stdout",
     "output_type": "stream",
     "text": [
      "Odd\n"
     ]
    }
   ],
   "source": [
    "even_or_odd(5)"
   ]
  },
  {
   "cell_type": "code",
   "execution_count": 6,
   "id": "800a1593",
   "metadata": {},
   "outputs": [],
   "source": [
    "def even_or_odd(a):\n",
    "    if a % 2 == 0:\n",
    "        return('Even')\n",
    "    else:\n",
    "        return('Odd')"
   ]
  },
  {
   "cell_type": "code",
   "execution_count": 7,
   "id": "fdf62743",
   "metadata": {},
   "outputs": [
    {
     "name": "stdout",
     "output_type": "stream",
     "text": [
      "Odd\n"
     ]
    }
   ],
   "source": [
    "r = even_or_odd(5)\n",
    "print(r)"
   ]
  },
  {
   "cell_type": "markdown",
   "id": "1092b45a",
   "metadata": {},
   "source": [
    "If you do not return anything, then the function returns a special value called None.\n",
    "\n",
    "The None is a special built-in name, which means no value."
   ]
  },
  {
   "cell_type": "code",
   "execution_count": 15,
   "id": "0ec2e007",
   "metadata": {},
   "outputs": [],
   "source": [
    "def greeting(greet = \"Hello\", to = \"World\"):\n",
    "    return(greet + \" \" + to + \"!\")"
   ]
  },
  {
   "cell_type": "code",
   "execution_count": 16,
   "id": "92ec12e0",
   "metadata": {},
   "outputs": [
    {
     "data": {
      "text/plain": [
       "'Hello World!'"
      ]
     },
     "execution_count": 16,
     "metadata": {},
     "output_type": "execute_result"
    }
   ],
   "source": [
    "greeting('Hello', 'World')"
   ]
  },
  {
   "cell_type": "markdown",
   "id": "b3826acc",
   "metadata": {},
   "source": [
    "Function parameters are of two types.\n",
    "\n",
    "1. Mandatory Parameters\n",
    "2. Optional Parameters\n",
    "3. Keyword Parameters\n",
    "\n",
    "If you want to make a function parameter optional, you must set a default value for the parameter, and it becomes optional.\n",
    "\n",
    "If you do not set a default value, the parameter remains mandatory.\n",
    "\n",
    "Define all your mandatory parameters and then add your optional parameters in the end.\n",
    "\n",
    "Positional argument follows the keyword argument.You must pass all the mandatory arguments, and then you can leave the optional arguments or pass them."
   ]
  },
  {
   "cell_type": "code",
   "execution_count": 22,
   "id": "bd2cb7db",
   "metadata": {},
   "outputs": [
    {
     "data": {
      "text/plain": [
       "'Hello World!'"
      ]
     },
     "execution_count": 22,
     "metadata": {},
     "output_type": "execute_result"
    }
   ],
   "source": [
    "greeting()"
   ]
  },
  {
   "cell_type": "code",
   "execution_count": 23,
   "id": "ec6b693b",
   "metadata": {},
   "outputs": [
    {
     "data": {
      "text/plain": [
       "'Hello Nishank!'"
      ]
     },
     "execution_count": 23,
     "metadata": {},
     "output_type": "execute_result"
    }
   ],
   "source": [
    "greeting(to = \"Nishank\") # keyword argument passing"
   ]
  },
  {
   "cell_type": "markdown",
   "id": "4a5723ac",
   "metadata": {},
   "source": [
    "Follow standard practice.\n",
    "\n",
    "Define all your mandatory arguments first and then add all your optional arguments.\n",
    "\n",
    "Call the function passing all the mandatory arguments by position.\n",
    "\n",
    "Then pass the optional arguments using the key/value pair."
   ]
  },
  {
   "cell_type": "code",
   "execution_count": 46,
   "id": "79867a01",
   "metadata": {},
   "outputs": [],
   "source": [
    "def grocery_order(customer_name, *items, delivery_type = \"Home\", **items_with_qty): # variable-length argument\n",
    "    print(\"Order recieved for: \", customer_name)\n",
    "    print(\"Single unit items: \", str(items))\n",
    "    print(\"Other items: \", str(items_with_qty))\n",
    "    print(\"Delivery Type: \", delivery_type)\n",
    "    \n",
    "    if 'eggs' in items_with_qty:\n",
    "        print(\"Note: Handle with care.\")"
   ]
  },
  {
   "cell_type": "code",
   "execution_count": 47,
   "id": "ca983fe0",
   "metadata": {},
   "outputs": [
    {
     "name": "stdout",
     "output_type": "stream",
     "text": [
      "Order recieved for:  Nishank\n",
      "Single unit items:  ('Bread', 'Butter')\n",
      "Other items:  {'eggs': 12, 'milk': '1 Ltr'}\n",
      "Delivery Type:  Home\n",
      "Note: Handle with care.\n"
     ]
    }
   ],
   "source": [
    "grocery_order(\"Nishank\", \"Bread\", \"Butter\", eggs = 12, milk = \"1 Ltr\")"
   ]
  },
  {
   "cell_type": "markdown",
   "id": "c85ec2e3",
   "metadata": {},
   "source": [
    "Keep all your default values in the end."
   ]
  },
  {
   "cell_type": "markdown",
   "id": "be4758e2",
   "metadata": {},
   "source": [
    "Python offers two forms of variable length arguments.\n",
    "\n",
    "1. Variable Length tuple\n",
    "2. Variable-length dictionary\n",
    "\n",
    "If you are using a variable-length dictionary, it must be the last argument.\n",
    "\n",
    "If you are using a variable-length tuple type argument,you can place some more key/value or default arguments after the variable-length tuple argument."
   ]
  },
  {
   "cell_type": "code",
   "execution_count": 48,
   "id": "65a7f2a4",
   "metadata": {},
   "outputs": [],
   "source": [
    "def grocery_order1(customer_name, *items, delivery_type = \"Home\"):\n",
    "    print(\"Order recieved for: \", customer_name)\n",
    "    print(\"Single unit items: \", str(items))\n",
    "    print(\"Delivery Type: \", delivery_type)"
   ]
  },
  {
   "cell_type": "code",
   "execution_count": 49,
   "id": "d5cb79d1",
   "metadata": {},
   "outputs": [
    {
     "name": "stdout",
     "output_type": "stream",
     "text": [
      "Order recieved for:  Nishank\n",
      "Single unit items:  ('Bread', 'Butter')\n",
      "Delivery Type:  Home\n"
     ]
    }
   ],
   "source": [
    "grocery_order1(\"Nishank\", \"Bread\", \"Butter\",)"
   ]
  },
  {
   "cell_type": "code",
   "execution_count": 50,
   "id": "db410880",
   "metadata": {},
   "outputs": [
    {
     "name": "stdout",
     "output_type": "stream",
     "text": [
      "Order recieved for:  Nishank\n",
      "Single unit items:  ('Bread', 'Bread')\n",
      "Delivery Type:  Home\n"
     ]
    }
   ],
   "source": [
    "argList = [\"Bread\", \"Bread\"]\n",
    "grocery_order1(\"Nishank\", *argList)"
   ]
  },
  {
   "cell_type": "code",
   "execution_count": 52,
   "id": "43e474e7",
   "metadata": {},
   "outputs": [
    {
     "name": "stdout",
     "output_type": "stream",
     "text": [
      "Order recieved for:  Nishank\n",
      "Single unit items:  ('Bread', 'Bread')\n",
      "Other items:  {'eggs': 12, 'milk': '1 Ltr'}\n",
      "Delivery Type:  Home\n",
      "Note: Handle with care.\n"
     ]
    }
   ],
   "source": [
    "argDict = dict(eggs = 12, milk = \"1 Ltr\")\n",
    "grocery_order(\"Nishank\", *argList, **argDict)"
   ]
  },
  {
   "cell_type": "markdown",
   "id": "4befa0e4",
   "metadata": {},
   "source": [
    "Python Lambda is an anonymous function.That means a function without a name.\n",
    "Python lambda is a single line, single expression, anonymous function.\n",
    "\n",
    "You can create a Python lambda using the following syntax.\n",
    "\n",
    "> lambda argument : expression"
   ]
  },
  {
   "cell_type": "code",
   "execution_count": 55,
   "id": "d527a2ce",
   "metadata": {},
   "outputs": [],
   "source": [
    "f = lambda x, y: x + y"
   ]
  },
  {
   "cell_type": "code",
   "execution_count": 56,
   "id": "f2d2e15b",
   "metadata": {},
   "outputs": [
    {
     "data": {
      "text/plain": [
       "8"
      ]
     },
     "execution_count": 56,
     "metadata": {},
     "output_type": "execute_result"
    }
   ],
   "source": [
    "f(5, 3)"
   ]
  },
  {
   "cell_type": "code",
   "execution_count": 57,
   "id": "0ecff7a9",
   "metadata": {},
   "outputs": [
    {
     "data": {
      "text/plain": [
       "19"
      ]
     },
     "execution_count": 57,
     "metadata": {},
     "output_type": "execute_result"
    }
   ],
   "source": [
    "def apply_ops(*argsList, ops):\n",
    "    return ops(argsList)\n",
    "\n",
    "apply_ops(2,4,5,8, ops = sum)"
   ]
  },
  {
   "cell_type": "code",
   "execution_count": 58,
   "id": "30b2c5dd",
   "metadata": {},
   "outputs": [],
   "source": [
    "num_list = [[13,1,4], [3,4,7], [23,3,5]]"
   ]
  },
  {
   "cell_type": "code",
   "execution_count": 59,
   "id": "9d7a998c",
   "metadata": {},
   "outputs": [
    {
     "data": {
      "text/plain": [
       "[23, 3, 5]"
      ]
     },
     "execution_count": 59,
     "metadata": {},
     "output_type": "execute_result"
    }
   ],
   "source": [
    "max(num_list)"
   ]
  },
  {
   "cell_type": "code",
   "execution_count": 60,
   "id": "b5322219",
   "metadata": {},
   "outputs": [
    {
     "data": {
      "text/plain": [
       "[23, 3, 5]"
      ]
     },
     "execution_count": 60,
     "metadata": {},
     "output_type": "execute_result"
    }
   ],
   "source": [
    "max(num_list, key = sum)"
   ]
  },
  {
   "cell_type": "code",
   "execution_count": 63,
   "id": "86175723",
   "metadata": {},
   "outputs": [
    {
     "data": {
      "text/plain": [
       "[3, 4, 7]"
      ]
     },
     "execution_count": 63,
     "metadata": {},
     "output_type": "execute_result"
    }
   ],
   "source": [
    "max(num_list, key = lambda x : x[2])"
   ]
  },
  {
   "cell_type": "markdown",
   "id": "5f1a39fe",
   "metadata": {},
   "source": [
    "map() function takes a lambda function and an iterable object such as a list.\n",
    "\n",
    "> map(function, itreable, ..)"
   ]
  },
  {
   "cell_type": "code",
   "execution_count": 67,
   "id": "8e3e10a3",
   "metadata": {},
   "outputs": [],
   "source": [
    "num_list = [3,5,6,7]\n",
    "l = map(lambda x : x ** 2, num_list)"
   ]
  },
  {
   "cell_type": "code",
   "execution_count": 68,
   "id": "b9f4770b",
   "metadata": {},
   "outputs": [
    {
     "name": "stdout",
     "output_type": "stream",
     "text": [
      "[9, 25, 36, 49]\n"
     ]
    }
   ],
   "source": [
    "print(list(l))"
   ]
  },
  {
   "cell_type": "code",
   "execution_count": null,
   "id": "9a33bf93",
   "metadata": {},
   "outputs": [],
   "source": []
  }
 ],
 "metadata": {
  "kernelspec": {
   "display_name": "Python 3",
   "language": "python",
   "name": "python3"
  },
  "language_info": {
   "codemirror_mode": {
    "name": "ipython",
    "version": 3
   },
   "file_extension": ".py",
   "mimetype": "text/x-python",
   "name": "python",
   "nbconvert_exporter": "python",
   "pygments_lexer": "ipython3",
   "version": "3.8.8"
  }
 },
 "nbformat": 4,
 "nbformat_minor": 5
}
