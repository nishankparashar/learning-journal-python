{
 "cells": [
  {
   "cell_type": "markdown",
   "id": "24d1cda8",
   "metadata": {},
   "source": [
    "Given a list, write a Python program to swap first and last element of the list.\n",
    "\n",
    "Examples: \n",
    "\n",
    "Input : [12, 35, 9, 56, 24]<br>\n",
    "Output : [24, 35, 9, 56, 12]\n",
    "\n",
    "Input : [1, 2, 3]<br>\n",
    "Output : [3, 2, 1]"
   ]
  },
  {
   "cell_type": "code",
   "execution_count": 6,
   "id": "e7cb6537",
   "metadata": {},
   "outputs": [
    {
     "data": {
      "text/plain": [
       "[24, 35, 9, 56, 12]"
      ]
     },
     "execution_count": 6,
     "metadata": {},
     "output_type": "execute_result"
    }
   ],
   "source": [
    "def swap_first_and_last_element(myList): # approch 1\n",
    "    replaceIndex = len(myList) - 1\n",
    "    tmp = myList[replaceIndex]\n",
    "    myList[replaceIndex] = myList[0]\n",
    "    myList[0] = tmp\n",
    "    return myList\n",
    "\n",
    "myList = [12, 35, 9, 56, 24]\n",
    "swap_first_and_last_element(myList)"
   ]
  },
  {
   "cell_type": "code",
   "execution_count": 5,
   "id": "68125f07",
   "metadata": {},
   "outputs": [
    {
     "data": {
      "text/plain": [
       "[3, 2, 1]"
      ]
     },
     "execution_count": 5,
     "metadata": {},
     "output_type": "execute_result"
    }
   ],
   "source": [
    "def swap_first_and_last_element(myList): # approch 2\n",
    "    tmp = myList[-1]\n",
    "    myList[-1] = myList[0]\n",
    "    myList[0] = tmp\n",
    "    return myList\n",
    "\n",
    "myList = [1, 2, 3]\n",
    "swap_first_and_last_element(myList)"
   ]
  },
  {
   "cell_type": "markdown",
   "id": "3d650a0d",
   "metadata": {},
   "source": [
    "Given a list in Python and provided the positions of the elements, write a program to swap the two elements in the list.\n",
    "Examples: \n",
    " \n",
    "\n",
    "Input : List = [23, 65, 19, 90], pos1 = 1, pos2 = 3<br>\n",
    "Output : [19, 65, 23, 90]\n",
    "\n",
    "Input : List = [1, 2, 3, 4, 5], pos1 = 2, pos2 = 5<br>\n",
    "Output : [1, 5, 3, 4, 2]"
   ]
  },
  {
   "cell_type": "code",
   "execution_count": 9,
   "id": "0d2d1775",
   "metadata": {},
   "outputs": [
    {
     "data": {
      "text/plain": [
       "[19, 65, 23, 90]"
      ]
     },
     "execution_count": 9,
     "metadata": {},
     "output_type": "execute_result"
    }
   ],
   "source": [
    "def swap_first_and_last_element(myList, pos1, pos2):\n",
    "    tmp = myList[pos2-1]\n",
    "    myList[pos2-1] = myList[pos1-1]\n",
    "    myList[pos1-1] = tmp\n",
    "    return myList\n",
    "\n",
    "myList = [23, 65, 19, 90]\n",
    "pos1 = 1 \n",
    "pos2 = 3\n",
    "swap_first_and_last_element(myList, pos1, pos2)"
   ]
  },
  {
   "cell_type": "code",
   "execution_count": 38,
   "id": "ec07be96",
   "metadata": {},
   "outputs": [
    {
     "data": {
      "text/plain": [
       "True"
      ]
     },
     "execution_count": 38,
     "metadata": {},
     "output_type": "execute_result"
    }
   ],
   "source": [
    "import math\n",
    "\n",
    "def palindrom(myString):\n",
    "    size = len(myString)\n",
    "    if myString[:size//2] == myString[:(-1 * (math.ceil(size/2)))]:\n",
    "        return True\n",
    "    else:\n",
    "        return False\n",
    "    \n",
    "\n",
    "myString = 'Nitin'\n",
    "palindrom(myString.lower())"
   ]
  },
  {
   "cell_type": "code",
   "execution_count": null,
   "id": "dd0cfc3a",
   "metadata": {},
   "outputs": [],
   "source": []
  },
  {
   "cell_type": "code",
   "execution_count": null,
   "id": "7b1e575b",
   "metadata": {},
   "outputs": [],
   "source": []
  },
  {
   "cell_type": "code",
   "execution_count": null,
   "id": "542e055c",
   "metadata": {},
   "outputs": [],
   "source": []
  }
 ],
 "metadata": {
  "kernelspec": {
   "display_name": "Python 3",
   "language": "python",
   "name": "python3"
  },
  "language_info": {
   "codemirror_mode": {
    "name": "ipython",
    "version": 3
   },
   "file_extension": ".py",
   "mimetype": "text/x-python",
   "name": "python",
   "nbconvert_exporter": "python",
   "pygments_lexer": "ipython3",
   "version": "3.8.8"
  }
 },
 "nbformat": 4,
 "nbformat_minor": 5
}
