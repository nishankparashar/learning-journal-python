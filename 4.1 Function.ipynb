{
 "cells": [
  {
   "cell_type": "code",
   "execution_count": 2,
   "id": "a56738ed",
   "metadata": {},
   "outputs": [
    {
     "name": "stdout",
     "output_type": "stream",
     "text": [
      "n = 5\n",
      "r = 2\n",
      "Result = 10\n"
     ]
    }
   ],
   "source": [
    "n = int(input(\"n = \"))\n",
    "r = int(input(\"r = \"))\n",
    "\n",
    "n_fact = 1\n",
    "for i in range(1, n + 1):\n",
    "    n_fact *= i \n",
    "    \n",
    "r_fact = 1\n",
    "for i in range(1, r + 1):\n",
    "    r_fact *= i\n",
    "    \n",
    "n_r_fact = 1\n",
    "for i in range(1, n - r + 1):\n",
    "    r_fact *= i\n",
    "    \n",
    "result = n_fact//(r_fact*n_r_fact)\n",
    "\n",
    "print(\"Result =\",result)"
   ]
  },
  {
   "cell_type": "code",
   "execution_count": 21,
   "id": "44678b0b",
   "metadata": {},
   "outputs": [],
   "source": [
    "def fact(a):\n",
    "    a_fact = 1\n",
    "    for i in range(1,a+1):\n",
    "        a_fact *= i\n",
    "        \n",
    "    return a_fact"
   ]
  },
  {
   "cell_type": "code",
   "execution_count": 23,
   "id": "26ea7506",
   "metadata": {},
   "outputs": [
    {
     "name": "stdout",
     "output_type": "stream",
     "text": [
      "n = 5\n",
      "r = 2\n",
      "Result = 10\n"
     ]
    }
   ],
   "source": [
    "n = int(input(\"n = \"))\n",
    "r = int(input(\"r = \"))\n",
    "\n",
    "n_fact = fact(n)\n",
    "r_fact = fact(r)\n",
    "n_r_fact = fact(n-r)\n",
    "\n",
    "result = n_fact//(r_fact*n_r_fact)\n",
    "print(\"Result =\",result)"
   ]
  },
  {
   "cell_type": "markdown",
   "id": "25baafdf",
   "metadata": {},
   "source": [
    "### Why do we need function?\n",
    "\n",
    "1. Avoid Repeatition\n",
    "2. Code Readablity\n",
    "3. Testing"
   ]
  },
  {
   "cell_type": "code",
   "execution_count": 24,
   "id": "3698c5fd",
   "metadata": {},
   "outputs": [],
   "source": [
    "def isprime(n):\n",
    "    for i in range(2,n):\n",
    "        if n % i == 0:\n",
    "            break\n",
    "    else:\n",
    "        return True\n",
    "    \n",
    "    return False"
   ]
  },
  {
   "cell_type": "code",
   "execution_count": 25,
   "id": "48543a17",
   "metadata": {},
   "outputs": [
    {
     "data": {
      "text/plain": [
       "True"
      ]
     },
     "execution_count": 25,
     "metadata": {},
     "output_type": "execute_result"
    }
   ],
   "source": [
    "isprime(7)"
   ]
  },
  {
   "cell_type": "code",
   "execution_count": 26,
   "id": "d2852d4a",
   "metadata": {},
   "outputs": [
    {
     "data": {
      "text/plain": [
       "False"
      ]
     },
     "execution_count": 26,
     "metadata": {},
     "output_type": "execute_result"
    }
   ],
   "source": [
    "isprime(28)"
   ]
  },
  {
   "cell_type": "code",
   "execution_count": 27,
   "id": "ee3fb785",
   "metadata": {},
   "outputs": [],
   "source": [
    "def primefrom2toN(n):\n",
    "    for k in range(2, n+1):\n",
    "        k_is_prime = isprime(k)\n",
    "        if k_is_prime:\n",
    "            print(k)"
   ]
  },
  {
   "cell_type": "code",
   "execution_count": 28,
   "id": "2c7f0cc2",
   "metadata": {},
   "outputs": [
    {
     "name": "stdout",
     "output_type": "stream",
     "text": [
      "2\n",
      "3\n",
      "5\n",
      "7\n",
      "11\n",
      "13\n",
      "17\n",
      "19\n"
     ]
    }
   ],
   "source": [
    "primefrom2toN(20)"
   ]
  },
  {
   "cell_type": "code",
   "execution_count": 29,
   "id": "9e6ec982",
   "metadata": {},
   "outputs": [],
   "source": [
    "def ncr(n,r):\n",
    "    n_fact = fact(n)\n",
    "    r_fact = fact(r)\n",
    "    n_r_fact = fact(n-r)\n",
    "\n",
    "    result = n_fact//(r_fact*n_r_fact)\n",
    "    return result"
   ]
  },
  {
   "cell_type": "code",
   "execution_count": 30,
   "id": "ea49941b",
   "metadata": {},
   "outputs": [
    {
     "data": {
      "text/plain": [
       "10"
      ]
     },
     "execution_count": 30,
     "metadata": {},
     "output_type": "execute_result"
    }
   ],
   "source": [
    "ncr(5,2)"
   ]
  },
  {
   "cell_type": "code",
   "execution_count": 4,
   "id": "c5d0b399",
   "metadata": {},
   "outputs": [
    {
     "name": "stdout",
     "output_type": "stream",
     "text": [
      "0\n",
      "100\n",
      "20\n",
      "0 -17\n",
      "20 -6\n",
      "40 4\n",
      "60 15\n",
      "80 26\n",
      "100 37\n"
     ]
    }
   ],
   "source": [
    "def printTable(start,end,step):\n",
    "    for i in range(start, end+1, step):\n",
    "        f = (i - 32)* 5/9\n",
    "        print(i, int(f))\n",
    "  \n",
    "s = int(input())\n",
    "e = int(input())\n",
    "step = int(input())\n",
    "printTable(s,e,step)"
   ]
  },
  {
   "cell_type": "code",
   "execution_count": 8,
   "id": "112fbd19",
   "metadata": {},
   "outputs": [
    {
     "name": "stdout",
     "output_type": "stream",
     "text": [
      "5\n",
      "true\n"
     ]
    }
   ],
   "source": [
    "def checkMember(n):\n",
    "    a = 0\n",
    "    b = 1\n",
    "    for i in range(n+1):\n",
    "        sum = a + b\n",
    "        if n == sum:\n",
    "            break\n",
    "        a = b\n",
    "        b = sum\n",
    "    else:\n",
    "        return False\n",
    "    return True\n",
    "\n",
    "n=int(input())\n",
    "if(checkMember(n)):\n",
    "    print(\"true\")\n",
    "else:\n",
    "    print(\"false\")"
   ]
  },
  {
   "cell_type": "code",
   "execution_count": 10,
   "id": "34d8626d",
   "metadata": {},
   "outputs": [
    {
     "name": "stdout",
     "output_type": "stream",
     "text": [
      "123412\n",
      "false\n"
     ]
    }
   ],
   "source": [
    "def checkPalindrome(num):\n",
    "    if str(num) == str(num)[::-1]:\n",
    "        return True\n",
    "    else:\n",
    "        return False\n",
    "\n",
    "num = int(input())\n",
    "isPalindrome = checkPalindrome(num)\n",
    "if(isPalindrome):\n",
    "    print('true')\n",
    "else:\n",
    "    print('false')"
   ]
  },
  {
   "cell_type": "code",
   "execution_count": 21,
   "id": "9239115c",
   "metadata": {},
   "outputs": [
    {
     "name": "stdout",
     "output_type": "stream",
     "text": [
      "371\n",
      "371\n",
      "3\n",
      "27\n",
      "370\n",
      "371\n",
      "true\n"
     ]
    }
   ],
   "source": [
    "def checkArmstrong(n):\n",
    "    num = str(n)\n",
    "    power = len(num)\n",
    "    sum = 0\n",
    "    for i in num:\n",
    "        sum += int(i)**power\n",
    "    \n",
    "    if sum == n:\n",
    "        return True\n",
    "    else:\n",
    "        return False\n",
    "    \n",
    "num = int(input())\n",
    "isArmstrong = checkArmstrong(num)\n",
    "if(isArmstrong):\n",
    "    print('true')\n",
    "else:\n",
    "    print('false')"
   ]
  },
  {
   "cell_type": "code",
   "execution_count": null,
   "id": "51dbc3b1",
   "metadata": {},
   "outputs": [],
   "source": []
  },
  {
   "cell_type": "code",
   "execution_count": null,
   "id": "d19c77b0",
   "metadata": {},
   "outputs": [],
   "source": []
  }
 ],
 "metadata": {
  "kernelspec": {
   "display_name": "Python 3",
   "language": "python",
   "name": "python3"
  },
  "language_info": {
   "codemirror_mode": {
    "name": "ipython",
    "version": 3
   },
   "file_extension": ".py",
   "mimetype": "text/x-python",
   "name": "python",
   "nbconvert_exporter": "python",
   "pygments_lexer": "ipython3",
   "version": "3.8.8"
  }
 },
 "nbformat": 4,
 "nbformat_minor": 5
}
