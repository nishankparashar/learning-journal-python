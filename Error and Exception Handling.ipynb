{
 "cells": [
  {
   "cell_type": "code",
   "execution_count": 11,
   "id": "fdfca718",
   "metadata": {},
   "outputs": [],
   "source": [
    "num_list = [1,3,4,6,7]"
   ]
  },
  {
   "cell_type": "code",
   "execution_count": 12,
   "id": "0460e52e",
   "metadata": {},
   "outputs": [
    {
     "ename": "SyntaxError",
     "evalue": "invalid syntax (<ipython-input-12-de0be01fa35d>, line 1)",
     "output_type": "error",
     "traceback": [
      "\u001b[0;36m  File \u001b[0;32m\"<ipython-input-12-de0be01fa35d>\"\u001b[0;36m, line \u001b[0;32m1\u001b[0m\n\u001b[0;31m    if 5 in num_list\u001b[0m\n\u001b[0m                    ^\u001b[0m\n\u001b[0;31mSyntaxError\u001b[0m\u001b[0;31m:\u001b[0m invalid syntax\n"
     ]
    }
   ],
   "source": [
    "if 5 in num_list\n",
    "    print('Present!')"
   ]
  },
  {
   "cell_type": "code",
   "execution_count": null,
   "id": "97e80db0",
   "metadata": {},
   "outputs": [
    {
     "data": {
      "text/plain": [
       "'Ross'"
      ]
     },
     "execution_count": 8,
     "metadata": {},
     "output_type": "execute_result"
    }
   ],
   "source": [
    "myDict = {1: 'Ross', 2: 'Taylor'}\n",
    "myDict[3]"
   ]
  },
  {
   "cell_type": "markdown",
   "id": "6b0ed1ea",
   "metadata": {},
   "source": [
    "Python errors are broadly classified into two types.\n",
    "\n",
    "Syntax Errors and Exceptions\n",
    "\n",
    "Let me start with Syntax Errors.When we fail to follow the proper syntax of the Python language, we get a syntax error."
   ]
  },
  {
   "cell_type": "code",
   "execution_count": null,
   "id": "879c4b47",
   "metadata": {},
   "outputs": [
    {
     "ename": "SyntaxError",
     "evalue": "unmatched ')' (<ipython-input-7-74fb5dc17e52>, line 4)",
     "output_type": "error",
     "traceback": [
      "\u001b[0;36m  File \u001b[0;32m\"<ipython-input-7-74fb5dc17e52>\"\u001b[0;36m, line \u001b[0;32m4\u001b[0m\n\u001b[0;31m    print(a/b))\u001b[0m\n\u001b[0m              ^\u001b[0m\n\u001b[0;31mSyntaxError\u001b[0m\u001b[0;31m:\u001b[0m unmatched ')'\n"
     ]
    }
   ],
   "source": [
    "a = 3\n",
    "b = 2\n",
    "\n",
    "print(a/b))"
   ]
  },
  {
   "cell_type": "code",
   "execution_count": null,
   "id": "4961ecd5",
   "metadata": {},
   "outputs": [
    {
     "ename": "ZeroDivisionError",
     "evalue": "division by zero",
     "output_type": "error",
     "traceback": [
      "\u001b[0;31m---------------------------------------------------------------------------\u001b[0m",
      "\u001b[0;31mZeroDivisionError\u001b[0m                         Traceback (most recent call last)",
      "\u001b[0;32m<ipython-input-8-efe8e5c9c931>\u001b[0m in \u001b[0;36m<module>\u001b[0;34m\u001b[0m\n\u001b[1;32m      2\u001b[0m \u001b[0mb\u001b[0m \u001b[0;34m=\u001b[0m \u001b[0;36m0\u001b[0m\u001b[0;34m\u001b[0m\u001b[0;34m\u001b[0m\u001b[0m\n\u001b[1;32m      3\u001b[0m \u001b[0;34m\u001b[0m\u001b[0m\n\u001b[0;32m----> 4\u001b[0;31m \u001b[0mprint\u001b[0m\u001b[0;34m(\u001b[0m\u001b[0ma\u001b[0m \u001b[0;34m/\u001b[0m \u001b[0mb\u001b[0m\u001b[0;34m)\u001b[0m\u001b[0;34m\u001b[0m\u001b[0;34m\u001b[0m\u001b[0m\n\u001b[0m",
      "\u001b[0;31mZeroDivisionError\u001b[0m: division by zero"
     ]
    }
   ],
   "source": [
    "a = 3 \n",
    "b = 0 \n",
    "\n",
    "print(a / b)"
   ]
  },
  {
   "cell_type": "markdown",
   "id": "e4791bef",
   "metadata": {},
   "source": [
    "We can not divide a number by zero.\n",
    "\n",
    "This is a logic error these logical errors are commonly known as Exceptions.\n",
    "\n",
    "If you do not see a Syntax Error keyword in your error message, it is an Exception, or you can say a logical error.\n",
    "\n",
    "Every exception has got two things.\n",
    "\n",
    "1. Exception Name\n",
    "2. Exception Message or Description"
   ]
  },
  {
   "cell_type": "code",
   "execution_count": null,
   "id": "ada05b1b",
   "metadata": {},
   "outputs": [
    {
     "ename": "TypeError",
     "evalue": "unsupported operand type(s) for +: 'int' and 'str'",
     "output_type": "error",
     "traceback": [
      "\u001b[0;31m---------------------------------------------------------------------------\u001b[0m",
      "\u001b[0;31mTypeError\u001b[0m                                 Traceback (most recent call last)",
      "\u001b[0;32m<ipython-input-9-354efd4ac589>\u001b[0m in \u001b[0;36m<module>\u001b[0;34m\u001b[0m\n\u001b[1;32m      2\u001b[0m \u001b[0mb\u001b[0m \u001b[0;34m=\u001b[0m \u001b[0;34m'Hi'\u001b[0m\u001b[0;34m\u001b[0m\u001b[0;34m\u001b[0m\u001b[0m\n\u001b[1;32m      3\u001b[0m \u001b[0;34m\u001b[0m\u001b[0m\n\u001b[0;32m----> 4\u001b[0;31m \u001b[0mprint\u001b[0m\u001b[0;34m(\u001b[0m\u001b[0ma\u001b[0m \u001b[0;34m+\u001b[0m \u001b[0mb\u001b[0m\u001b[0;34m)\u001b[0m\u001b[0;34m\u001b[0m\u001b[0;34m\u001b[0m\u001b[0m\n\u001b[0m",
      "\u001b[0;31mTypeError\u001b[0m: unsupported operand type(s) for +: 'int' and 'str'"
     ]
    }
   ],
   "source": [
    "a = 2 \n",
    "b = 'Hi'\n",
    "\n",
    "print(a + b)"
   ]
  },
  {
   "cell_type": "markdown",
   "id": "f1470f69",
   "metadata": {},
   "source": [
    "This is also an exception.\n",
    "\n",
    "The name of this exception is TypeError."
   ]
  },
  {
   "cell_type": "markdown",
   "id": "8d62f5da",
   "metadata": {},
   "source": [
    "Python exceptions are further classified into two categories.\n",
    "\n",
    "Built-in Exception and User-defined Exception\n",
    "\n",
    "Built-in exceptions are defined by Python.\n",
    "All the exceptions that we have seen until now are built-in exceptions,be it, ZeroDivisionError, TypeError, or KeyError.\n",
    "\n",
    "All these built-in exceptions are nothing but a Python Class.\n",
    "\n",
    "And all these Exception classes are derived from the Exception class.\n",
    "The exception name is the class name."
   ]
  },
  {
   "cell_type": "code",
   "execution_count": null,
   "id": "3e9bca32",
   "metadata": {},
   "outputs": [
    {
     "name": "stdout",
     "output_type": "stream",
     "text": [
      "Please enter a number: a\n"
     ]
    },
    {
     "ename": "ValueError",
     "evalue": "invalid literal for int() with base 10: 'a'",
     "output_type": "error",
     "traceback": [
      "\u001b[0;31m---------------------------------------------------------------------------\u001b[0m",
      "\u001b[0;31mValueError\u001b[0m                                Traceback (most recent call last)",
      "\u001b[0;32m<ipython-input-10-6e62128bde98>\u001b[0m in \u001b[0;36m<module>\u001b[0;34m\u001b[0m\n\u001b[0;32m----> 1\u001b[0;31m \u001b[0mn\u001b[0m \u001b[0;34m=\u001b[0m \u001b[0mint\u001b[0m\u001b[0;34m(\u001b[0m\u001b[0minput\u001b[0m\u001b[0;34m(\u001b[0m\u001b[0;34m'Please enter a number: '\u001b[0m\u001b[0;34m)\u001b[0m\u001b[0;34m)\u001b[0m\u001b[0;34m\u001b[0m\u001b[0;34m\u001b[0m\u001b[0m\n\u001b[0m\u001b[1;32m      2\u001b[0m \u001b[0;34m\u001b[0m\u001b[0m\n\u001b[1;32m      3\u001b[0m \u001b[0mprint\u001b[0m\u001b[0;34m(\u001b[0m\u001b[0;34m'You entered: '\u001b[0m \u001b[0;34m+\u001b[0m \u001b[0mstr\u001b[0m\u001b[0;34m(\u001b[0m\u001b[0mn\u001b[0m\u001b[0;34m)\u001b[0m\u001b[0;34m)\u001b[0m\u001b[0;34m\u001b[0m\u001b[0;34m\u001b[0m\u001b[0m\n",
      "\u001b[0;31mValueError\u001b[0m: invalid literal for int() with base 10: 'a'"
     ]
    }
   ],
   "source": [
    "n = int(input('Please enter a number: '))\n",
    "\n",
    "print('You entered: ' + str(n))"
   ]
  },
  {
   "cell_type": "code",
   "execution_count": null,
   "id": "f7b601d2",
   "metadata": {},
   "outputs": [
    {
     "name": "stdout",
     "output_type": "stream",
     "text": [
      "Please enter a number: a\n",
      "Oops! Enter an Numeric Value\n",
      "Finished\n"
     ]
    }
   ],
   "source": [
    "try:\n",
    "    n = int(input('Please enter a number: '))\n",
    "    print('You entered: ' + str(n))\n",
    "\n",
    "except ValueError:\n",
    "    print('Oops! Enter an Numeric Value')\n",
    "    \n",
    "print('Finished')"
   ]
  },
  {
   "attachments": {},
   "cell_type": "markdown",
   "id": "1b425fc3",
   "metadata": {},
   "source": [
    "We handle the exceptions using the try and except statements.\n",
    "\n",
    "Here is the basic syntax to handle an exception.\n",
    "\n",
    "try:\n",
    "\n",
    "    #unsafe Code\n",
    "\n",
    "except:\n",
    "\n",
    "    #fallback Code\n",
    "\n",
    "\n",
    "\n",
    "We write the unsafe code, which can raise an exception in the try block. And we write the fall back code in the except block."
   ]
  },
  {
   "cell_type": "code",
   "execution_count": null,
   "id": "04aaa002",
   "metadata": {},
   "outputs": [],
   "source": [
    "def file_divide(file,divisor):\n",
    "    my_file = open(file, \"r\")\n",
    "    sum = 0\n",
    "    \n",
    "    for num in my_file:\n",
    "        sum += int(num)/divisor\n",
    "    \n",
    "    my_file.close()\n",
    "    return sum"
   ]
  },
  {
   "cell_type": "code",
   "execution_count": null,
   "id": "9e7a83b3",
   "metadata": {},
   "outputs": [
    {
     "data": {
      "text/plain": [
       "15.999999999999998"
      ]
     },
     "execution_count": 17,
     "metadata": {},
     "output_type": "execute_result"
    }
   ],
   "source": [
    "file_divide('/Users/nishank/Documents/Personal/Development/Python/Code/data/notebook7_fileref.txt',3)"
   ]
  },
  {
   "cell_type": "code",
   "execution_count": null,
   "id": "108d256b",
   "metadata": {},
   "outputs": [],
   "source": [
    "def file_divide(file,divisor):\n",
    "    try:\n",
    "        my_file = open(file, \"r\")\n",
    "    except FileNotFoundError:\n",
    "        print('File not found at' + file)\n",
    "        return\n",
    "        \n",
    "    sum = 0\n",
    "    \n",
    "    try:\n",
    "        for num in my_file:\n",
    "            sum += int(num)/divisor\n",
    "    except ZeroDivisionError:\n",
    "        print('Cannot divide by zero.')\n",
    "        return\n",
    "    except ValueError:\n",
    "        print('Invalid value! Check your data file.')\n",
    "        return\n",
    "    except:\n",
    "        print('Someting went worng')\n",
    "    finally:    \n",
    "        my_file.close()\n",
    "    return sum"
   ]
  },
  {
   "cell_type": "code",
   "execution_count": null,
   "id": "308a2065",
   "metadata": {},
   "outputs": [
    {
     "name": "stdout",
     "output_type": "stream",
     "text": [
      "Cannot divide by zero.\n"
     ]
    }
   ],
   "source": [
    "file_divide('/Users/nishank/Documents/Personal/Development/Python/Code/data/notebook7_fileref.txt',0)"
   ]
  },
  {
   "cell_type": "markdown",
   "id": "08b0befb",
   "metadata": {},
   "source": [
    "The finally block is the place for clean-up.\n",
    "\n",
    "This finally-block will always execute."
   ]
  },
  {
   "cell_type": "code",
   "execution_count": null,
   "id": "366898b1",
   "metadata": {},
   "outputs": [],
   "source": [
    "def advance_by(die_input):\n",
    "    print('move up by ' + str(die_input))"
   ]
  },
  {
   "cell_type": "code",
   "execution_count": null,
   "id": "83ec08cc",
   "metadata": {},
   "outputs": [
    {
     "name": "stdout",
     "output_type": "stream",
     "text": [
      "move up by 7\n"
     ]
    }
   ],
   "source": [
    "advance_by(7)"
   ]
  },
  {
   "cell_type": "code",
   "execution_count": null,
   "id": "e255e11f",
   "metadata": {},
   "outputs": [
    {
     "name": "stdout",
     "output_type": "stream",
     "text": [
      "Invalid Number\n"
     ]
    }
   ],
   "source": [
    "def advance_by(die_input):\n",
    "    if 0 <= die_input <= 6:\n",
    "        print('move up by ' + str(die_input))\n",
    "    else:\n",
    "        print('Invalid Number')\n",
    "\n",
    "advance_by(7)"
   ]
  },
  {
   "cell_type": "code",
   "execution_count": null,
   "id": "918da58a",
   "metadata": {},
   "outputs": [
    {
     "data": {
      "text/plain": [
       "'Invalid Number'"
      ]
     },
     "execution_count": 33,
     "metadata": {},
     "output_type": "execute_result"
    }
   ],
   "source": [
    "def advance_by(die_input):\n",
    "    if 0 <= die_input <= 6:\n",
    "        print('move up by ' + str(die_input))\n",
    "    else:\n",
    "        return('Invalid Number')\n",
    "\n",
    "advance_by(7)"
   ]
  },
  {
   "cell_type": "code",
   "execution_count": null,
   "id": "4695807e",
   "metadata": {},
   "outputs": [
    {
     "name": "stdout",
     "output_type": "stream",
     "text": [
      "Invalid Number\n"
     ]
    }
   ],
   "source": [
    "def advance_by(die_input):\n",
    "    if 0 <= die_input <= 6:\n",
    "        print('move up by ' + str(die_input))\n",
    "    else:\n",
    "        raise ValueError('Invalid Number')\n",
    "   \n",
    "try:\n",
    "    advance_by(7)\n",
    "except ValueError as err:\n",
    "    print(str(err))"
   ]
  },
  {
   "cell_type": "code",
   "execution_count": null,
   "id": "7cae923b",
   "metadata": {},
   "outputs": [
    {
     "name": "stdout",
     "output_type": "stream",
     "text": [
      "Invalid Number\n"
     ]
    }
   ],
   "source": [
    "class DieInputError(Exception): # user defined exception\n",
    "    pass\n",
    "\n",
    "class DieInputValueError(DieInputError): # user defined exception\n",
    "    pass\n",
    "\n",
    "\n",
    "def advance_by(die_input):\n",
    "    if 0 <= die_input <= 6:\n",
    "        print('move up by ' + str(die_input))\n",
    "    else:\n",
    "        raise DieInputValueError('Invalid Number') \n",
    "   \n",
    "try:\n",
    "    advance_by(7)\n",
    "except DieInputValueError as err:\n",
    "    print(str(err))"
   ]
  },
  {
   "cell_type": "markdown",
   "id": "edd8b5e3",
   "metadata": {},
   "source": [
    "What is the need for the base classes?\n",
    "\n",
    "It is a standard practice to create a base class and group your user-defined exceptions under a base class."
   ]
  },
  {
   "cell_type": "code",
   "execution_count": null,
   "id": "6e93b288",
   "metadata": {},
   "outputs": [],
   "source": []
  }
 ],
 "metadata": {
  "kernelspec": {
   "display_name": "Python 3",
   "language": "python",
   "name": "python3"
  },
  "language_info": {
   "codemirror_mode": {
    "name": "ipython",
    "version": 3
   },
   "file_extension": ".py",
   "mimetype": "text/x-python",
   "name": "python",
   "nbconvert_exporter": "python",
   "pygments_lexer": "ipython3",
   "version": "3.8.8"
  }
 },
 "nbformat": 4,
 "nbformat_minor": 5
}
