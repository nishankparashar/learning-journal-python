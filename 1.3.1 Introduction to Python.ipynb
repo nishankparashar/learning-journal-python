{
 "cells": [
  {
   "cell_type": "code",
   "execution_count": 1,
   "id": "6c26d409",
   "metadata": {},
   "outputs": [
    {
     "name": "stdout",
     "output_type": "stream",
     "text": [
      "Hello World !!\n"
     ]
    }
   ],
   "source": [
    "print(\"Hello World !!\")"
   ]
  },
  {
   "cell_type": "code",
   "execution_count": 2,
   "id": "95159500",
   "metadata": {},
   "outputs": [
    {
     "name": "stdout",
     "output_type": "stream",
     "text": [
      "5\n"
     ]
    }
   ],
   "source": [
    "print(5)"
   ]
  },
  {
   "cell_type": "code",
   "execution_count": 3,
   "id": "1ee35be2",
   "metadata": {},
   "outputs": [
    {
     "name": "stdout",
     "output_type": "stream",
     "text": [
      "5.6\n"
     ]
    }
   ],
   "source": [
    "print(5.6)"
   ]
  },
  {
   "cell_type": "code",
   "execution_count": 5,
   "id": "1c6558fb",
   "metadata": {},
   "outputs": [
    {
     "name": "stdout",
     "output_type": "stream",
     "text": [
      "False\n"
     ]
    }
   ],
   "source": [
    "print(bool(0))"
   ]
  },
  {
   "cell_type": "code",
   "execution_count": 7,
   "id": "95320c7a",
   "metadata": {},
   "outputs": [
    {
     "name": "stdout",
     "output_type": "stream",
     "text": [
      "India Canada USA\n"
     ]
    }
   ],
   "source": [
    "print(\"India\", \"Canada\", \"USA\",\"Japan\")"
   ]
  },
  {
   "cell_type": "code",
   "execution_count": 8,
   "id": "aadc88b4",
   "metadata": {},
   "outputs": [
    {
     "name": "stdout",
     "output_type": "stream",
     "text": [
      "India True 5\n"
     ]
    }
   ],
   "source": [
    "print(\"India\",bool(1),5)"
   ]
  },
  {
   "cell_type": "markdown",
   "id": "39fbea18",
   "metadata": {},
   "source": [
    "In anaconda jupyter notebook we can press shift+tab inside the function parentheses to get the functions document."
   ]
  },
  {
   "cell_type": "code",
   "execution_count": 9,
   "id": "95bc3c8c",
   "metadata": {},
   "outputs": [
    {
     "name": "stdout",
     "output_type": "stream",
     "text": [
      "India-Canada-USA-Japan\n"
     ]
    }
   ],
   "source": [
    "print(\"India\", \"Canada\", \"USA\",\"Japan\", sep=\"-\")"
   ]
  },
  {
   "cell_type": "code",
   "execution_count": 10,
   "id": "2c8f85d0",
   "metadata": {},
   "outputs": [
    {
     "name": "stdout",
     "output_type": "stream",
     "text": [
      "Hello\n",
      "World\n"
     ]
    }
   ],
   "source": [
    "print(\"Hello\")\n",
    "print(\"World\")"
   ]
  },
  {
   "cell_type": "code",
   "execution_count": 11,
   "id": "57a35404",
   "metadata": {},
   "outputs": [
    {
     "name": "stdout",
     "output_type": "stream",
     "text": [
      "Hello World\n"
     ]
    }
   ],
   "source": [
    "print(\"Hello\", end=\" \")\n",
    "print(\"World\")"
   ]
  },
  {
   "cell_type": "markdown",
   "id": "c800b454",
   "metadata": {},
   "source": [
    "### Python supports 3 categories of data types:\n",
    " * Basic Types - (integer,float,complex,boolean and string)\n",
    " * Container Types - (List,Tuples, Sets and Dictionary)\n",
    " * User-defined Types - Class"
   ]
  },
  {
   "cell_type": "code",
   "execution_count": 15,
   "id": "87e3eb19",
   "metadata": {},
   "outputs": [
    {
     "name": "stdout",
     "output_type": "stream",
     "text": [
      "4\n",
      "inf\n"
     ]
    }
   ],
   "source": [
    "# integer\n",
    "print(4)\n",
    "print(1e309) # range of integer in python"
   ]
  },
  {
   "cell_type": "code",
   "execution_count": 16,
   "id": "d3c310a8",
   "metadata": {},
   "outputs": [
    {
     "name": "stdout",
     "output_type": "stream",
     "text": [
      "4.5\n",
      "1.7e+308\n"
     ]
    }
   ],
   "source": [
    "# float\n",
    "print(4.5)\n",
    "print(1.7e308)"
   ]
  },
  {
   "cell_type": "code",
   "execution_count": 17,
   "id": "ea8e2081",
   "metadata": {},
   "outputs": [
    {
     "name": "stdout",
     "output_type": "stream",
     "text": [
      "True\n",
      "False\n"
     ]
    }
   ],
   "source": [
    "# boolean\n",
    "print(True)\n",
    "print(False)"
   ]
  },
  {
   "cell_type": "code",
   "execution_count": 20,
   "id": "156dffda",
   "metadata": {},
   "outputs": [
    {
     "name": "stdout",
     "output_type": "stream",
     "text": [
      "(4+5j)\n"
     ]
    }
   ],
   "source": [
    "# complex\n",
    "print(4+5j)"
   ]
  },
  {
   "cell_type": "code",
   "execution_count": 21,
   "id": "a44f7ef4",
   "metadata": {},
   "outputs": [
    {
     "name": "stdout",
     "output_type": "stream",
     "text": [
      "Delhi\n",
      "Delhi\n",
      "Delhi\n"
     ]
    }
   ],
   "source": [
    "# string\n",
    "print('Delhi')\n",
    "print(\"Delhi\")\n",
    "print(\"\"\"Delhi\"\"\")"
   ]
  },
  {
   "cell_type": "code",
   "execution_count": 22,
   "id": "2deec9c2",
   "metadata": {},
   "outputs": [
    {
     "name": "stdout",
     "output_type": "stream",
     "text": [
      "[1, 2, 3, 4, 5]\n"
     ]
    }
   ],
   "source": [
    "# list\n",
    "print([1,2,3,4,5])"
   ]
  },
  {
   "cell_type": "code",
   "execution_count": 23,
   "id": "dc1ce405",
   "metadata": {},
   "outputs": [
    {
     "name": "stdout",
     "output_type": "stream",
     "text": [
      "(1, 2, 3, 4, 5)\n"
     ]
    }
   ],
   "source": [
    "# tuple\n",
    "print((1,2,3,4,5))"
   ]
  },
  {
   "cell_type": "code",
   "execution_count": 24,
   "id": "d7641a9c",
   "metadata": {},
   "outputs": [
    {
     "name": "stdout",
     "output_type": "stream",
     "text": [
      "{1, 2, 3, 4, 5}\n"
     ]
    }
   ],
   "source": [
    "# sets\n",
    "print({1,2,3,4,5})"
   ]
  },
  {
   "cell_type": "code",
   "execution_count": 26,
   "id": "62978375",
   "metadata": {},
   "outputs": [
    {
     "name": "stdout",
     "output_type": "stream",
     "text": [
      "{'Name': 'Nitish', 'Age': 30, 'Gender': 'Male'}\n"
     ]
    }
   ],
   "source": [
    "# dictionary\n",
    "print({\"Name\":\"Nitish\", \"Age\":30, \"Gender\":\"Male\"})"
   ]
  },
  {
   "cell_type": "code",
   "execution_count": 27,
   "id": "17d6670e",
   "metadata": {},
   "outputs": [],
   "source": [
    "# comments - to enhance code readablity "
   ]
  },
  {
   "cell_type": "code",
   "execution_count": 28,
   "id": "5924261d",
   "metadata": {},
   "outputs": [],
   "source": [
    "# In C Language\n",
    "# int a = 5"
   ]
  },
  {
   "cell_type": "code",
   "execution_count": 29,
   "id": "d1ab04dc",
   "metadata": {},
   "outputs": [
    {
     "name": "stdout",
     "output_type": "stream",
     "text": [
      "Nishank\n"
     ]
    }
   ],
   "source": [
    "name = 'Nishank'\n",
    "print(name)"
   ]
  },
  {
   "cell_type": "markdown",
   "id": "b3e2bc32",
   "metadata": {},
   "source": [
    "* No variable declatration required in Python\n",
    "* Dynamic Typing - When a variable is created it automatically understands the type of variable.(Oppsite to Static Typing)\n"
   ]
  },
  {
   "cell_type": "code",
   "execution_count": 31,
   "id": "01bdcd78",
   "metadata": {},
   "outputs": [
    {
     "name": "stdout",
     "output_type": "stream",
     "text": [
      "Nishank\n"
     ]
    }
   ],
   "source": [
    "print(name)"
   ]
  },
  {
   "cell_type": "code",
   "execution_count": 32,
   "id": "cbdbd49c",
   "metadata": {},
   "outputs": [
    {
     "name": "stdout",
     "output_type": "stream",
     "text": [
      "4\n"
     ]
    }
   ],
   "source": [
    "print(4)"
   ]
  },
  {
   "cell_type": "code",
   "execution_count": 33,
   "id": "d7ae526e",
   "metadata": {},
   "outputs": [
    {
     "name": "stdout",
     "output_type": "stream",
     "text": [
      "True\n"
     ]
    }
   ],
   "source": [
    "print(True)"
   ]
  },
  {
   "cell_type": "markdown",
   "id": "acc0c24d",
   "metadata": {},
   "source": [
    "* Dynamic Binding - When a variable can store different data types. Varaible is not bound with a single data type.(Oppsite to Static Binding)"
   ]
  },
  {
   "cell_type": "code",
   "execution_count": 34,
   "id": "9611bed2",
   "metadata": {},
   "outputs": [
    {
     "name": "stdout",
     "output_type": "stream",
     "text": [
      "5 6 7\n"
     ]
    }
   ],
   "source": [
    "# special decleration syntax\n",
    "a=5; b=6; c=7\n",
    "print(a,b,c)"
   ]
  },
  {
   "cell_type": "code",
   "execution_count": 35,
   "id": "e7e7ffe0",
   "metadata": {},
   "outputs": [
    {
     "name": "stdout",
     "output_type": "stream",
     "text": [
      "4 5 6\n"
     ]
    }
   ],
   "source": [
    "a,b,c = 4,5,6\n",
    "print(a,b,c)"
   ]
  },
  {
   "cell_type": "code",
   "execution_count": 36,
   "id": "48ccc41a",
   "metadata": {},
   "outputs": [
    {
     "name": "stdout",
     "output_type": "stream",
     "text": [
      "6 6 6\n"
     ]
    }
   ],
   "source": [
    "a=b=c=6\n",
    "print(a,b,c)"
   ]
  },
  {
   "cell_type": "markdown",
   "id": "61883cb8",
   "metadata": {},
   "source": [
    "# Keywords\n",
    "* Python is a case sensitive programming language\n",
    "\n",
    "In programming, a keyword is a word that is reserved by a program because the word has a special meaning. Keywords can be commands or parameters. Every programming language has a set of keywords that cannot be used as variable names"
   ]
  },
  {
   "cell_type": "code",
   "execution_count": 37,
   "id": "30f4a7fc",
   "metadata": {},
   "outputs": [
    {
     "name": "stdout",
     "output_type": "stream",
     "text": [
      "['False', 'None', 'True', 'and', 'as', 'assert', 'async', 'await', 'break', 'class', 'continue', 'def', 'del', 'elif', 'else', 'except', 'finally', 'for', 'from', 'global', 'if', 'import', 'in', 'is', 'lambda', 'nonlocal', 'not', 'or', 'pass', 'raise', 'return', 'try', 'while', 'with', 'yield']\n"
     ]
    }
   ],
   "source": [
    "# python has 33 keywords\n",
    "import keyword\n",
    "print(keyword.kwlist)"
   ]
  },
  {
   "cell_type": "markdown",
   "id": "1bbb0f95",
   "metadata": {},
   "source": [
    "# Identifiers\n",
    "A Python identifier is a name used to identify a variable, function, class, module or other object.\n",
    "\n",
    "## Rules for setting Identifiers\n",
    "\n",
    "* can only start with an alphabet or _\n",
    "* Followed by 0 or more letter,_ and digits\n",
    "* keywords cannot be used as an identifiers"
   ]
  }
 ],
 "metadata": {
  "kernelspec": {
   "display_name": "Python 3",
   "language": "python",
   "name": "python3"
  },
  "language_info": {
   "codemirror_mode": {
    "name": "ipython",
    "version": 3
   },
   "file_extension": ".py",
   "mimetype": "text/x-python",
   "name": "python",
   "nbconvert_exporter": "python",
   "pygments_lexer": "ipython3",
   "version": "3.8.8"
  }
 },
 "nbformat": 4,
 "nbformat_minor": 5
}
