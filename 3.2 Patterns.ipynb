{
 "cells": [
  {
   "cell_type": "code",
   "execution_count": 2,
   "id": "bb73a901",
   "metadata": {},
   "outputs": [
    {
     "name": "stdout",
     "output_type": "stream",
     "text": [
      "5\n",
      "*****\n",
      "****\n",
      "***\n",
      "**\n",
      "*\n"
     ]
    }
   ],
   "source": [
    "n = int(input())\n",
    "\n",
    "i = 1\n",
    "while i <= n:\n",
    "    j = 1\n",
    "    while j <= n - i + 1:\n",
    "        print('*', end = '')\n",
    "        j += 1\n",
    "    print()\n",
    "    i += 1"
   ]
  },
  {
   "cell_type": "code",
   "execution_count": 3,
   "id": "c52c65d2",
   "metadata": {},
   "outputs": [
    {
     "name": "stdout",
     "output_type": "stream",
     "text": [
      "4\n",
      "4444\n",
      "333\n",
      "22\n",
      "1\n"
     ]
    }
   ],
   "source": [
    "n = int(input())\n",
    "\n",
    "i = 1\n",
    "while i <= n:\n",
    "    j = 1\n",
    "    while j <= n - i + 1:\n",
    "        print(n - i + 1, end = '')\n",
    "        j += 1\n",
    "    print()\n",
    "    i += 1"
   ]
  },
  {
   "cell_type": "code",
   "execution_count": 4,
   "id": "e48757a4",
   "metadata": {},
   "outputs": [
    {
     "name": "stdout",
     "output_type": "stream",
     "text": [
      "4\n",
      "   *\n",
      "  **\n",
      " ***\n",
      "****\n"
     ]
    }
   ],
   "source": [
    "n = int(input())\n",
    "\n",
    "i = 1\n",
    "while i <= n:\n",
    "    space = 1\n",
    "    while space <= n - i:\n",
    "        print(' ', end = '')\n",
    "        space += 1\n",
    "    star = 1\n",
    "    while star <= i:\n",
    "        print('*', end = '')\n",
    "        star += 1\n",
    "    print()\n",
    "    i += 1"
   ]
  },
  {
   "cell_type": "code",
   "execution_count": 5,
   "id": "ec4db0b7",
   "metadata": {},
   "outputs": [
    {
     "name": "stdout",
     "output_type": "stream",
     "text": [
      "4\n",
      "    \n",
      "   1\n",
      "  12\n",
      " 123\n",
      "1234\n"
     ]
    }
   ],
   "source": [
    "n = int(input())\n",
    "## Print the required output in given format\n",
    "\n",
    "i = 0\n",
    "while i <= n:\n",
    "    j = 1\n",
    "    while j <= n - i:\n",
    "        print(' ', end = '')\n",
    "        j += 1\n",
    "    k = 1\n",
    "    while k <= i:\n",
    "        print(k, end = '')\n",
    "        k += 1\n",
    "    print()\n",
    "    i += 1"
   ]
  },
  {
   "cell_type": "code",
   "execution_count": 7,
   "id": "5dc41d8b",
   "metadata": {},
   "outputs": [
    {
     "name": "stdout",
     "output_type": "stream",
     "text": [
      "4\n",
      "    \n",
      "   1\n",
      "  121\n",
      " 12321\n",
      "1234321\n"
     ]
    }
   ],
   "source": [
    "n = int(input())\n",
    "\n",
    "i = 0\n",
    "while i <= n:\n",
    "    j = 1\n",
    "    while j <= n - i:\n",
    "        print(' ', end = '')\n",
    "        j += 1\n",
    "    k = 1\n",
    "    while k <= i:\n",
    "        print(k, end = '')\n",
    "        k += 1\n",
    "    p = i - 1\n",
    "    while p >= 1:\n",
    "        print(p, end = '')\n",
    "        p -= 1\n",
    "    print()\n",
    "    i += 1"
   ]
  },
  {
   "cell_type": "code",
   "execution_count": 12,
   "id": "66f5c584",
   "metadata": {},
   "outputs": [
    {
     "name": "stdout",
     "output_type": "stream",
     "text": [
      "4\n",
      "   *\n",
      "  ***\n",
      " *****\n",
      "*******\n"
     ]
    }
   ],
   "source": [
    "n = int(input())\n",
    "\n",
    "i = 1\n",
    "while i <= n:\n",
    "    j = 1\n",
    "    while j <= n - i:\n",
    "        print(' ', end = '')\n",
    "        j += 1\n",
    "    k = 1\n",
    "    while k <= i:\n",
    "        print('*', end = '')\n",
    "        k += 1\n",
    "    p = i - 1\n",
    "    while p >= 1:\n",
    "        print('*', end = '')\n",
    "        p -= 1\n",
    "    print()\n",
    "    i += 1"
   ]
  },
  {
   "cell_type": "code",
   "execution_count": 21,
   "id": "848b6541",
   "metadata": {},
   "outputs": [
    {
     "name": "stdout",
     "output_type": "stream",
     "text": [
      "4\n",
      "   1\n",
      "  232\n",
      " 34543\n",
      "4567654\n"
     ]
    }
   ],
   "source": [
    "n = int(input())\n",
    "\n",
    "i = 1\n",
    "while i <= n:\n",
    "    j = 1\n",
    "    while j <= n - i:\n",
    "        print(' ', end = '')\n",
    "        j += 1\n",
    "    k = 1\n",
    "    l = i\n",
    "    while k <= i:\n",
    "        print(l, end = '')\n",
    "        k += 1\n",
    "        l += 1\n",
    "    p = l - 2\n",
    "    while p >= i:\n",
    "        print(p, end = '')\n",
    "        p -= 1\n",
    "    print()\n",
    "    i += 1"
   ]
  },
  {
   "cell_type": "code",
   "execution_count": 34,
   "id": "b0b83506",
   "metadata": {},
   "outputs": [
    {
     "name": "stdout",
     "output_type": "stream",
     "text": [
      "4\n",
      "1   1\n",
      "12  21\n",
      "123 321\n",
      "12344321\n"
     ]
    }
   ],
   "source": [
    "n  = int(input())\n",
    "\n",
    "i = 1\n",
    "while i <= n:\n",
    "    j = 1\n",
    "    while j <= i:\n",
    "        print(j, end = '')\n",
    "        j += 1\n",
    "    k = 1\n",
    "    while k <= n - i:\n",
    "        print(' ', end = '')\n",
    "        k += 1\n",
    "    p = i\n",
    "    while p >= 1:\n",
    "        print(p, end = '')\n",
    "        p -= 1\n",
    "    print()\n",
    "    i += 1"
   ]
  },
  {
   "cell_type": "code",
   "execution_count": 42,
   "id": "e358eb16",
   "metadata": {},
   "outputs": [
    {
     "name": "stdout",
     "output_type": "stream",
     "text": [
      "4\n",
      "*000*000*\n",
      "0*00*00*0\n",
      "00*0*0*00\n",
      "000***000\n"
     ]
    }
   ],
   "source": [
    "## Read input as specified in the question.\n",
    "n = int(input())\n",
    "\n",
    "## Print output as specified in the question.\n",
    "\n",
    "i = 1\n",
    "while i <= n:\n",
    "    j = 1\n",
    "    while j <= n:\n",
    "        if j == i:\n",
    "            print('*', end = '')\n",
    "        else:\n",
    "            print(0, end = '')\n",
    "        j += 1\n",
    "    print('*', end = '')\n",
    "    k = 1\n",
    "    while k <= n:\n",
    "        if k == n - i + 1:\n",
    "            print('*', end = '')\n",
    "        else:\n",
    "            print(0, end = '')\n",
    "        k += 1\n",
    "    print()\n",
    "    i += 1"
   ]
  },
  {
   "cell_type": "code",
   "execution_count": 54,
   "id": "f836addc",
   "metadata": {},
   "outputs": [
    {
     "name": "stdout",
     "output_type": "stream",
     "text": [
      "4\n",
      "   1\n",
      "  212\n",
      " 32123\n",
      "4321234\n"
     ]
    }
   ],
   "source": [
    "n = int(input())\n",
    "\n",
    "i = 1\n",
    "while i <= n:\n",
    "    j = 1\n",
    "    while j <= n - i:\n",
    "        print(' ', end = '')\n",
    "        j += 1\n",
    "    p = i\n",
    "    k = 1\n",
    "    while k <= i:\n",
    "        print(p, end = '')\n",
    "        p -= 1\n",
    "        k += 1\n",
    "    q = i - 1\n",
    "    p = 2\n",
    "    while q >= 1:\n",
    "        print(p, end = '')\n",
    "        p += 1\n",
    "        q -= 1\n",
    "    print()\n",
    "    i += 1"
   ]
  },
  {
   "cell_type": "code",
   "execution_count": 35,
   "id": "60fca20c",
   "metadata": {
    "scrolled": false
   },
   "outputs": [
    {
     "name": "stdout",
     "output_type": "stream",
     "text": [
      "7\n",
      "   *\n",
      "  ***\n",
      " *****\n",
      "*******\n",
      " *****\n",
      "  ***\n",
      "   *\n"
     ]
    }
   ],
   "source": [
    "n = int(input())\n",
    "\n",
    "i = 1\n",
    "x = (n // 2) + 1\n",
    "while i <= n:\n",
    "    if i <= x:\n",
    "        j = 1\n",
    "        while j <= x - i:\n",
    "            print(' ', end = '')\n",
    "            j += 1\n",
    "        k = 1\n",
    "        while k <= i:\n",
    "            print('*', end = '')\n",
    "            k += 1\n",
    "        p = i - 1\n",
    "        while p >= 1:\n",
    "            print('*', end = '')\n",
    "            p -= 1\n",
    "    else:\n",
    "        j = 1\n",
    "        while j <= i - x :\n",
    "            print(' ', end = '')\n",
    "            j += 1\n",
    "        k = 1\n",
    "        while k <= n - i + 1:\n",
    "            print('*', end = '')\n",
    "            k += 1\n",
    "        p = 1\n",
    "        while p <= n - i:\n",
    "            print('*', end = '')\n",
    "            p += 1\n",
    "    print()\n",
    "    i += 1"
   ]
  },
  {
   "cell_type": "code",
   "execution_count": 40,
   "id": "dc2b9c99",
   "metadata": {},
   "outputs": [
    {
     "name": "stdout",
     "output_type": "stream",
     "text": [
      "7\n",
      "* \n",
      " * * \n",
      "  * * * \n",
      "   * * * * \n",
      "  * * * \n",
      " * * \n",
      "* \n"
     ]
    }
   ],
   "source": [
    "n = int(input())\n",
    "\n",
    "i = 1\n",
    "x = (n // 2) + 1\n",
    "while i <= n:\n",
    "    if i <= x:\n",
    "        j = 1\n",
    "        while j <= i - 1:\n",
    "            print(' ', end = '')\n",
    "            j += 1\n",
    "        k = 1\n",
    "        while k <= i:\n",
    "            print('*', end = ' ')\n",
    "            k += 1\n",
    "    else:\n",
    "        j = 1\n",
    "        while j <= n - i :\n",
    "            print(' ', end = '')\n",
    "            j += 1\n",
    "        k = 1\n",
    "        while k <= n - i + 1:\n",
    "            print('*', end = ' ')\n",
    "            k += 1\n",
    "    print()\n",
    "    i += 1"
   ]
  },
  {
   "cell_type": "code",
   "execution_count": null,
   "id": "996d9ed5",
   "metadata": {},
   "outputs": [],
   "source": []
  },
  {
   "cell_type": "code",
   "execution_count": null,
   "id": "3b6ea8c8",
   "metadata": {},
   "outputs": [],
   "source": []
  }
 ],
 "metadata": {
  "kernelspec": {
   "display_name": "Python 3",
   "language": "python",
   "name": "python3"
  },
  "language_info": {
   "codemirror_mode": {
    "name": "ipython",
    "version": 3
   },
   "file_extension": ".py",
   "mimetype": "text/x-python",
   "name": "python",
   "nbconvert_exporter": "python",
   "pygments_lexer": "ipython3",
   "version": "3.8.8"
  }
 },
 "nbformat": 4,
 "nbformat_minor": 5
}
