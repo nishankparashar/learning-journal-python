{
 "cells": [
  {
   "cell_type": "markdown",
   "id": "5bfa077f",
   "metadata": {},
   "source": [
    "Python Strings - \n",
    "\n",
    "1. String Literals\n",
    "2. String Function\n",
    "3. String Formatting"
   ]
  },
  {
   "cell_type": "code",
   "execution_count": 1,
   "id": "626b3fe6",
   "metadata": {},
   "outputs": [
    {
     "name": "stdout",
     "output_type": "stream",
     "text": [
      "\"Nishank\" Parashar\n",
      "'Parashar' Nishank\n"
     ]
    }
   ],
   "source": [
    "fullName1 = '\"Nishank\" Parashar'\n",
    "fullName2 = \"'Parashar' Nishank\"\n",
    "\n",
    "print(fullName1)\n",
    "print(fullName2)"
   ]
  },
  {
   "cell_type": "code",
   "execution_count": 2,
   "id": "a752e672",
   "metadata": {},
   "outputs": [
    {
     "name": "stdout",
     "output_type": "stream",
     "text": [
      "Hi!\n",
      "How are you?\n",
      "\n"
     ]
    }
   ],
   "source": [
    "msg = \"\"\"Hi!\n",
    "How are you?\n",
    "\"\"\"\n",
    "# multiline string\n",
    "\n",
    "print(msg)"
   ]
  },
  {
   "cell_type": "code",
   "execution_count": 3,
   "id": "3ac31708",
   "metadata": {},
   "outputs": [
    {
     "data": {
      "text/plain": [
       "\"Don't run\""
      ]
     },
     "execution_count": 3,
     "metadata": {},
     "output_type": "execute_result"
    }
   ],
   "source": [
    "'Don\\'t run' # backslash to escape single quote"
   ]
  },
  {
   "cell_type": "code",
   "execution_count": 5,
   "id": "bdc874a8",
   "metadata": {},
   "outputs": [
    {
     "name": "stdout",
     "output_type": "stream",
     "text": [
      "Hi!\n",
      "How are you?\n"
     ]
    }
   ],
   "source": [
    "msg = \"Hi!\\nHow are you?\"\n",
    "print(msg)"
   ]
  },
  {
   "cell_type": "code",
   "execution_count": 8,
   "id": "697bd103",
   "metadata": {},
   "outputs": [],
   "source": [
    "name = \"Nishank Parashar\""
   ]
  },
  {
   "cell_type": "code",
   "execution_count": 9,
   "id": "76387874",
   "metadata": {},
   "outputs": [
    {
     "data": {
      "text/plain": [
       "16"
      ]
     },
     "execution_count": 9,
     "metadata": {},
     "output_type": "execute_result"
    }
   ],
   "source": [
    "len(name)"
   ]
  },
  {
   "cell_type": "code",
   "execution_count": 10,
   "id": "c7fd7290",
   "metadata": {},
   "outputs": [
    {
     "data": {
      "text/plain": [
       "['Nishank', 'Parashar']"
      ]
     },
     "execution_count": 10,
     "metadata": {},
     "output_type": "execute_result"
    }
   ],
   "source": [
    "name.split()"
   ]
  },
  {
   "cell_type": "code",
   "execution_count": 11,
   "id": "706742b9",
   "metadata": {},
   "outputs": [
    {
     "data": {
      "text/plain": [
       "['Big Data', ' Machine Learning', ' Artificial Intelligence']"
      ]
     },
     "execution_count": 11,
     "metadata": {},
     "output_type": "execute_result"
    }
   ],
   "source": [
    "subject = \"Big Data, Machine Learning, Artificial Intelligence\"\n",
    "subject.split(',')"
   ]
  },
  {
   "cell_type": "code",
   "execution_count": 12,
   "id": "b8639b99",
   "metadata": {},
   "outputs": [
    {
     "name": "stdout",
     "output_type": "stream",
     "text": [
      "Big Data, Machine Learning, Artificial Intelligence\n"
     ]
    }
   ],
   "source": [
    "nameList = ['Big Data', ' Machine Learning', ' Artificial Intelligence']\n",
    "nameString = ','.join(nameList) # precisely the opposite of the split() function\n",
    "print(nameString)"
   ]
  },
  {
   "cell_type": "code",
   "execution_count": 13,
   "id": "a6d68211",
   "metadata": {},
   "outputs": [
    {
     "name": "stdout",
     "output_type": "stream",
     "text": [
      "Hey there! I am going to the zoo.\n",
      "Hey there! I am going to the park.\n"
     ]
    }
   ],
   "source": [
    "msg = 'Hey there! I am going to the park.'\n",
    "print(msg.replace('park','zoo'))\n",
    "print(msg)"
   ]
  },
  {
   "cell_type": "markdown",
   "id": "aec8c65c",
   "metadata": {},
   "source": [
    "But remember, strings are immutable, so the original string is not changed.\n",
    "\n",
    "It remains the same and replace() returns a new string after replacing the old sequence with the new sequence."
   ]
  },
  {
   "cell_type": "code",
   "execution_count": 15,
   "id": "4dfd8d65",
   "metadata": {},
   "outputs": [
    {
     "name": "stdout",
     "output_type": "stream",
     "text": [
      "Nishank Parashar\n",
      "   Nishank Parashar\n",
      "Nishank Parashar   \n"
     ]
    }
   ],
   "source": [
    "name = \"   Nishank Parashar   \"\n",
    "print(name.strip())\n",
    "print(name.rstrip())\n",
    "print(name.lstrip())"
   ]
  },
  {
   "cell_type": "markdown",
   "id": "84895358",
   "metadata": {},
   "source": [
    "String Funtions\n",
    "\n",
    "https://docs.python.org/3.8/library/stdtypes.html#string-methods"
   ]
  },
  {
   "cell_type": "code",
   "execution_count": 19,
   "id": "4bb6cdb0",
   "metadata": {},
   "outputs": [
    {
     "name": "stdout",
     "output_type": "stream",
     "text": [
      "Hey! It's John and I am 25 years old.\n"
     ]
    }
   ],
   "source": [
    "name = \"John\"\n",
    "age = \"25\"\n",
    "\n",
    "info = \"Hey! It's \" + name + \" and I am \" + age + \" years old.\"\n",
    "print(info)"
   ]
  },
  {
   "cell_type": "code",
   "execution_count": 21,
   "id": "444d4721",
   "metadata": {},
   "outputs": [
    {
     "name": "stdout",
     "output_type": "stream",
     "text": [
      "Hey! It's John and I am 25 years old.\n"
     ]
    }
   ],
   "source": [
    "info = \"Hey! It's {} and I am {} years old.\".format(name,age)\n",
    "print(info)"
   ]
  },
  {
   "cell_type": "markdown",
   "id": "80c8d440",
   "metadata": {},
   "source": [
    "So, we use a pair of curly braces as placeholders.\n",
    "Then we use format function to substitute variable values in order.\n",
    "\n",
    "Remember, the first variable value will substitute the first pair of the braces, and the second variable is going to replace the second pair."
   ]
  },
  {
   "cell_type": "code",
   "execution_count": 23,
   "id": "e55718ba",
   "metadata": {},
   "outputs": [
    {
     "name": "stdout",
     "output_type": "stream",
     "text": [
      "Hey! It's John and I am 25 years old.\n"
     ]
    }
   ],
   "source": [
    "info = f\"Hey! It's {name} and I am {age} years old.\"\n",
    "print(info)"
   ]
  },
  {
   "cell_type": "markdown",
   "id": "928018cc",
   "metadata": {},
   "source": [
    "A tuple is a collection of Python objects separated by commas, which is similar to a List.\n",
    "\n",
    "The most crucial difference between the two of them is the mutability.\n",
    "A tuple is immutable, whereas the list is a mutable object.\n",
    "\n",
    "We enclose tuples in parentheses, and lists in square brackets.\n",
    "The elements inside a list or a tuple can be of a heterogenous type, which means you can mix different types of objects.\n",
    "\n",
    "https://docs.python.org/3.8/library/functions.html#built-in-functions"
   ]
  },
  {
   "cell_type": "code",
   "execution_count": 28,
   "id": "d1858359",
   "metadata": {},
   "outputs": [
    {
     "name": "stdout",
     "output_type": "stream",
     "text": [
      "('Big Data', 'Artificial Intelligence')\n",
      "['Machine Learning', 'Data Analytics']\n"
     ]
    }
   ],
   "source": [
    "myTuple = ('Big Data', 'Artificial Intelligence')\n",
    "myList = ['Machine Learning', 'Data Analytics']\n",
    "\n",
    "print(myTuple)\n",
    "print(myList)"
   ]
  },
  {
   "cell_type": "code",
   "execution_count": 29,
   "id": "e1bd8cc3",
   "metadata": {},
   "outputs": [
    {
     "name": "stdout",
     "output_type": "stream",
     "text": [
      "['Machine Learning', '101']\n"
     ]
    }
   ],
   "source": [
    "myList2 = ['Machine Learning', '101']\n",
    "print(myList2)"
   ]
  },
  {
   "cell_type": "code",
   "execution_count": 30,
   "id": "27fe07b8",
   "metadata": {},
   "outputs": [
    {
     "name": "stdout",
     "output_type": "stream",
     "text": [
      "['Machine Learning', '101', 'Data Science']\n"
     ]
    }
   ],
   "source": [
    "myList2.append('Data Science')\n",
    "print(myList2)"
   ]
  },
  {
   "cell_type": "code",
   "execution_count": 31,
   "id": "4039c771",
   "metadata": {},
   "outputs": [
    {
     "name": "stdout",
     "output_type": "stream",
     "text": [
      "3\n",
      "2\n"
     ]
    }
   ],
   "source": [
    "print(len(myList2))\n",
    "print(len(myTuple))"
   ]
  },
  {
   "cell_type": "code",
   "execution_count": 39,
   "id": "dfe0c2cf",
   "metadata": {},
   "outputs": [
    {
     "data": {
      "text/plain": [
       "45"
      ]
     },
     "execution_count": 39,
     "metadata": {},
     "output_type": "execute_result"
    }
   ],
   "source": [
    "list1 = [10,22,42,45]\n",
    "list1.pop()"
   ]
  },
  {
   "cell_type": "code",
   "execution_count": 40,
   "id": "ed7d13be",
   "metadata": {},
   "outputs": [
    {
     "data": {
      "text/plain": [
       "[10, 22, 42]"
      ]
     },
     "execution_count": 40,
     "metadata": {},
     "output_type": "execute_result"
    }
   ],
   "source": [
    "list1"
   ]
  },
  {
   "cell_type": "code",
   "execution_count": 41,
   "id": "4d0c09c9",
   "metadata": {},
   "outputs": [],
   "source": [
    "list1.append(8)"
   ]
  },
  {
   "cell_type": "code",
   "execution_count": 42,
   "id": "a386193b",
   "metadata": {},
   "outputs": [
    {
     "data": {
      "text/plain": [
       "[10, 22, 42, 8]"
      ]
     },
     "execution_count": 42,
     "metadata": {},
     "output_type": "execute_result"
    }
   ],
   "source": [
    "list1"
   ]
  },
  {
   "cell_type": "code",
   "execution_count": 43,
   "id": "26b5042c",
   "metadata": {},
   "outputs": [],
   "source": [
    "list1.insert(1,12)"
   ]
  },
  {
   "cell_type": "code",
   "execution_count": 44,
   "id": "12588dfe",
   "metadata": {},
   "outputs": [
    {
     "data": {
      "text/plain": [
       "[10, 12, 22, 42, 8]"
      ]
     },
     "execution_count": 44,
     "metadata": {},
     "output_type": "execute_result"
    }
   ],
   "source": [
    "list1"
   ]
  },
  {
   "cell_type": "markdown",
   "id": "cb2d8918",
   "metadata": {},
   "source": [
    "Python Loops - \n",
    "\n",
    "1. While Loops\n",
    "2. For Loops"
   ]
  },
  {
   "cell_type": "code",
   "execution_count": 46,
   "id": "e9d48a16",
   "metadata": {},
   "outputs": [
    {
     "name": "stdout",
     "output_type": "stream",
     "text": [
      "0\n",
      "1\n",
      "2\n",
      "3\n",
      "4\n"
     ]
    }
   ],
   "source": [
    "a = 0\n",
    "while a < 5:\n",
    "    print(a)\n",
    "    a += 1"
   ]
  },
  {
   "cell_type": "code",
   "execution_count": 47,
   "id": "bb66ac6c",
   "metadata": {},
   "outputs": [
    {
     "name": "stdout",
     "output_type": "stream",
     "text": [
      "L\n",
      "e\n",
      "a\n",
      "r\n",
      "n\n",
      "i\n",
      "n\n",
      "g\n",
      " \n"
     ]
    }
   ],
   "source": [
    "name = \"Learning Journal\"\n",
    "i = 0\n",
    "while True:\n",
    "    if name[i] == 'J':\n",
    "        break\n",
    "    print(name[i])\n",
    "    i += 1"
   ]
  },
  {
   "cell_type": "code",
   "execution_count": 48,
   "id": "8563db9a",
   "metadata": {},
   "outputs": [
    {
     "name": "stdout",
     "output_type": "stream",
     "text": [
      "4\n",
      "3\n",
      "1\n",
      "0\n"
     ]
    }
   ],
   "source": [
    "num  = 5\n",
    "\n",
    "while num > 0:\n",
    "    num -= 1\n",
    "    if num == 2:\n",
    "        continue\n",
    "    print(num)"
   ]
  },
  {
   "cell_type": "code",
   "execution_count": 49,
   "id": "23c9a95e",
   "metadata": {},
   "outputs": [
    {
     "name": "stdout",
     "output_type": "stream",
     "text": [
      "egg\n",
      "milk\n",
      "bread\n",
      "veggies\n"
     ]
    }
   ],
   "source": [
    "grocery_list = ['egg', 'milk', 'bread', 'veggies']\n",
    "\n",
    "for food in grocery_list:\n",
    "    print(food)"
   ]
  },
  {
   "cell_type": "code",
   "execution_count": 50,
   "id": "c6a5a8c0",
   "metadata": {},
   "outputs": [
    {
     "name": "stdout",
     "output_type": "stream",
     "text": [
      "0\n",
      "1\n",
      "2\n",
      "3\n",
      "4\n",
      "5\n",
      "6\n",
      "7\n",
      "8\n",
      "9\n"
     ]
    }
   ],
   "source": [
    "for i in range(10):\n",
    "    print(i)"
   ]
  },
  {
   "cell_type": "markdown",
   "id": "8e3b82a0",
   "metadata": {},
   "source": [
    "We can create a range by simply calling a range function.\n",
    "\n",
    "The range function takes at least one argument, and the single argument represents the stop counter.\n",
    "\n",
    "However, when you supply a single argument, the range function assumes a default start counter as 0."
   ]
  },
  {
   "cell_type": "code",
   "execution_count": 51,
   "id": "d0fee659",
   "metadata": {},
   "outputs": [
    {
     "name": "stdout",
     "output_type": "stream",
     "text": [
      "5\n",
      "9\n",
      "13\n",
      "17\n"
     ]
    }
   ],
   "source": [
    "for i in range(5,20,4): # start, end and positive step size\n",
    "    print(i)"
   ]
  },
  {
   "cell_type": "code",
   "execution_count": 54,
   "id": "dc9ab1eb",
   "metadata": {},
   "outputs": [
    {
     "name": "stdout",
     "output_type": "stream",
     "text": [
      "55\n",
      "51\n",
      "47\n",
      "43\n",
      "39\n",
      "35\n",
      "31\n",
      "27\n",
      "23\n"
     ]
    }
   ],
   "source": [
    "for i in range(55,20,-4): # negitive step size\n",
    "    print(i)"
   ]
  },
  {
   "cell_type": "code",
   "execution_count": 56,
   "id": "d4ebc1f1",
   "metadata": {
    "scrolled": true
   },
   "outputs": [
    {
     "name": "stdout",
     "output_type": "stream",
     "text": [
      "[130, 8, 48]\n",
      "[(10, 13, 130), (2, 4, 8), (8, 6, 48)]\n"
     ]
    }
   ],
   "source": [
    "rectangles = [(10,13), (2,4), (8,6)]\n",
    "\n",
    "areas = []\n",
    "rectangles_areas = []\n",
    "\n",
    "for (x,y) in rectangles:\n",
    "    areas.append(x*y)\n",
    "    rectangles_areas.append((x,y,x*y))\n",
    "    \n",
    "print(areas)\n",
    "print(rectangles_areas)"
   ]
  },
  {
   "cell_type": "code",
   "execution_count": 57,
   "id": "24b8b0fc",
   "metadata": {},
   "outputs": [],
   "source": [
    "rectangles = [(10,13), (2,4), (8,6)]"
   ]
  },
  {
   "cell_type": "code",
   "execution_count": 58,
   "id": "5c38bdfd",
   "metadata": {},
   "outputs": [
    {
     "name": "stdout",
     "output_type": "stream",
     "text": [
      "[(10, 13, 130), (2, 4, 8), (8, 6, 48)]\n"
     ]
    }
   ],
   "source": [
    "rectangles_areas = [(x,y,x*y) for (x,y) in rectangles]\n",
    "print(rectangles_areas)"
   ]
  },
  {
   "cell_type": "code",
   "execution_count": null,
   "id": "313a3a59",
   "metadata": {},
   "outputs": [],
   "source": []
  }
 ],
 "metadata": {
  "kernelspec": {
   "display_name": "Python 3",
   "language": "python",
   "name": "python3"
  },
  "language_info": {
   "codemirror_mode": {
    "name": "ipython",
    "version": 3
   },
   "file_extension": ".py",
   "mimetype": "text/x-python",
   "name": "python",
   "nbconvert_exporter": "python",
   "pygments_lexer": "ipython3",
   "version": "3.8.8"
  }
 },
 "nbformat": 4,
 "nbformat_minor": 5
}
