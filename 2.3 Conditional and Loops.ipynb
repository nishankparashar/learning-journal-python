{
 "cells": [
  {
   "cell_type": "markdown",
   "id": "5c3d22c2",
   "metadata": {},
   "source": [
    "### for Loop"
   ]
  },
  {
   "cell_type": "code",
   "execution_count": 1,
   "id": "4d25d939",
   "metadata": {},
   "outputs": [
    {
     "name": "stdout",
     "output_type": "stream",
     "text": [
      "a\n",
      "b\n",
      "c\n",
      "d\n"
     ]
    }
   ],
   "source": [
    "s = \"abcd\"\n",
    "for c in s:\n",
    "    print(c)"
   ]
  },
  {
   "cell_type": "code",
   "execution_count": 2,
   "id": "f80c251b",
   "metadata": {},
   "outputs": [
    {
     "name": "stdout",
     "output_type": "stream",
     "text": [
      "n = 5\n",
      "1\n",
      "2\n",
      "3\n",
      "4\n",
      "5\n"
     ]
    }
   ],
   "source": [
    "# print numbers from 1 to n\n",
    "# giving all the three values to range\n",
    "\n",
    "n = int(input(\"n = \"))\n",
    "for i in range(1, n + 1, 1):\n",
    "    print(i)"
   ]
  },
  {
   "cell_type": "code",
   "execution_count": 3,
   "id": "763cd732",
   "metadata": {},
   "outputs": [
    {
     "name": "stdout",
     "output_type": "stream",
     "text": [
      "n = 5\n",
      "0\n",
      "1\n",
      "2\n",
      "3\n",
      "4\n",
      "5\n"
     ]
    }
   ],
   "source": [
    "# only one value to the range and it uses it as stop and by default 0 is start and 1 is stride\n",
    "\n",
    "n = int(input(\"n = \"))\n",
    "for i in range(n+1):\n",
    "    print(i)"
   ]
  },
  {
   "cell_type": "code",
   "execution_count": 4,
   "id": "06ecd9cd",
   "metadata": {},
   "outputs": [
    {
     "name": "stdout",
     "output_type": "stream",
     "text": [
      "n = 5\n",
      "1\n",
      "2\n",
      "3\n",
      "4\n",
      "5\n"
     ]
    }
   ],
   "source": [
    "# only two values to the range and it uses first argument as start and second as stop and by default stride is 1\n",
    "\n",
    "n = int(input(\"n = \"))\n",
    "for i in range(1, n + 1):\n",
    "    print(i)"
   ]
  },
  {
   "cell_type": "code",
   "execution_count": 5,
   "id": "5ab25158",
   "metadata": {},
   "outputs": [
    {
     "name": "stdout",
     "output_type": "stream",
     "text": [
      "n = 5\n",
      "5\n",
      "4\n",
      "3\n",
      "2\n",
      "1\n"
     ]
    }
   ],
   "source": [
    "# print from n to 1\n",
    "\n",
    "n = int(input(\"n = \"))\n",
    "for i in range(n, 0 , -1):\n",
    "    print(i)"
   ]
  },
  {
   "cell_type": "code",
   "execution_count": 6,
   "id": "0d29c4c5",
   "metadata": {},
   "outputs": [
    {
     "name": "stdout",
     "output_type": "stream",
     "text": [
      "a = 4\n",
      "b = 20\n",
      "6\n",
      "9\n",
      "12\n",
      "15\n",
      "18\n"
     ]
    }
   ],
   "source": [
    "# print multiple of 3 between a to b\n",
    "\n",
    "a = int(input(\"a = \"))\n",
    "b = int(input(\"b = \"))\n",
    "\n",
    "for i in range(a, b+1):\n",
    "    if i % 3 == 0:\n",
    "        print(i)"
   ]
  },
  {
   "cell_type": "code",
   "execution_count": 7,
   "id": "038ea0dc",
   "metadata": {},
   "outputs": [
    {
     "name": "stdout",
     "output_type": "stream",
     "text": [
      "a = 4\n",
      "b = 20\n",
      "6\n",
      "9\n",
      "12\n",
      "15\n",
      "18\n"
     ]
    }
   ],
   "source": [
    "# print multiple of 3 between a to b\n",
    "\n",
    "a = int(input(\"a = \"))\n",
    "b = int(input(\"b = \"))\n",
    "\n",
    "if a % 3 == 0:\n",
    "    s = a\n",
    "elif a % 3 == 1:\n",
    "    s = a + 2\n",
    "else:\n",
    "    s = a + 1\n",
    "    \n",
    "for i in range(s, b+1, 3):\n",
    "    print(i)"
   ]
  },
  {
   "cell_type": "code",
   "execution_count": 9,
   "id": "695c379d",
   "metadata": {},
   "outputs": [
    {
     "name": "stdout",
     "output_type": "stream",
     "text": [
      "n = 6\n",
      "Not Prime\n"
     ]
    }
   ],
   "source": [
    "# check if n is prime:\n",
    "\n",
    "n = int(input(\"n = \"))\n",
    "flag = False\n",
    "\n",
    "for i in range(2, n):\n",
    "    if n % i == 0:\n",
    "        flag = True\n",
    "\n",
    "if flag:\n",
    "    print(\"Not Prime\")\n",
    "else:\n",
    "    print(\"Prime\")"
   ]
  },
  {
   "cell_type": "raw",
   "id": "ce7dcf72",
   "metadata": {},
   "source": [
    "   1\n",
    "  232\n",
    " 34543\n",
    "4567654"
   ]
  },
  {
   "cell_type": "code",
   "execution_count": 17,
   "id": "7956e092",
   "metadata": {
    "scrolled": true
   },
   "outputs": [
    {
     "name": "stdout",
     "output_type": "stream",
     "text": [
      "n = 5\n",
      "    1\n",
      "   232\n",
      "  34543\n",
      " 4567654\n",
      "567898765\n"
     ]
    }
   ],
   "source": [
    "n = int(input(\"n = \"))\n",
    "\n",
    "for i in range(1, n+1):\n",
    "    for j in range(n-i):\n",
    "        print(' ', end = '')\n",
    "    for k in range(i, 2*i):\n",
    "        print(k, end = '')\n",
    "    for p in range(2*i-2, i-1, -1):\n",
    "        print(p, end = '')\n",
    "    print()"
   ]
  },
  {
   "cell_type": "markdown",
   "id": "49f73440",
   "metadata": {},
   "source": [
    "### break"
   ]
  },
  {
   "cell_type": "code",
   "execution_count": 18,
   "id": "9caba8c0",
   "metadata": {},
   "outputs": [
    {
     "name": "stdout",
     "output_type": "stream",
     "text": [
      "n = 9\n",
      "0\n",
      "1\n",
      "2\n",
      "3\n",
      "4\n"
     ]
    }
   ],
   "source": [
    "n = int(input(\"n = \"))\n",
    "\n",
    "for i in range(n):\n",
    "    if i == 5:\n",
    "        break\n",
    "    print(i)"
   ]
  },
  {
   "cell_type": "code",
   "execution_count": 20,
   "id": "1529a026",
   "metadata": {},
   "outputs": [
    {
     "name": "stdout",
     "output_type": "stream",
     "text": [
      "n = 6\n",
      "Not Prime\n"
     ]
    }
   ],
   "source": [
    "# check if n is prime\n",
    "\n",
    "n = int(input(\"n = \"))\n",
    "flag = False\n",
    "for i in range(2, n):\n",
    "    if n % i == 0:\n",
    "        flag = True\n",
    "        break\n",
    "\n",
    "if flag:\n",
    "    print(\"Not Prime\")\n",
    "else:\n",
    "    print(\"Prime\")"
   ]
  },
  {
   "cell_type": "code",
   "execution_count": 23,
   "id": "610aae2b",
   "metadata": {},
   "outputs": [
    {
     "name": "stdout",
     "output_type": "stream",
     "text": [
      "n = 9\n",
      "2\n",
      "3\n",
      "5\n",
      "7\n"
     ]
    }
   ],
   "source": [
    "# print prime numbers between 1 to n\n",
    "\n",
    "n = int(input(\"n = \"))\n",
    "\n",
    "for i in range(2,n+1):\n",
    "    flag = False\n",
    "    for j in range(2, i):\n",
    "        if i % j == 0:\n",
    "            flag = True\n",
    "            break\n",
    "    if not flag:\n",
    "        print(i)"
   ]
  },
  {
   "cell_type": "markdown",
   "id": "ebdfdcf7",
   "metadata": {},
   "source": [
    "### else with Loops"
   ]
  },
  {
   "cell_type": "code",
   "execution_count": 2,
   "id": "32ea5d73",
   "metadata": {},
   "outputs": [
    {
     "name": "stdout",
     "output_type": "stream",
     "text": [
      "n = 10\n",
      "1\n",
      "2\n",
      "3\n",
      "4\n",
      "5\n",
      "6\n",
      "7\n",
      "8\n",
      "9\n",
      "This print will be executed once at the end.\n"
     ]
    }
   ],
   "source": [
    "n = int(input(\"n = \"))\n",
    "\n",
    "i = 1\n",
    "while i < n:\n",
    "    print(i)\n",
    "    i += 1\n",
    "else:\n",
    "    print(\"This print will be executed once at the end.\")"
   ]
  },
  {
   "cell_type": "code",
   "execution_count": 4,
   "id": "86813465",
   "metadata": {},
   "outputs": [
    {
     "name": "stdout",
     "output_type": "stream",
     "text": [
      "n = 10\n",
      "0\n",
      "1\n",
      "2\n",
      "3\n",
      "4\n",
      "5\n",
      "6\n",
      "7\n",
      "8\n",
      "9\n",
      "This print will be executed once at the end.\n"
     ]
    }
   ],
   "source": [
    "n = int(input(\"n = \"))\n",
    "\n",
    "for i in range(10):\n",
    "    print(i)\n",
    "else:\n",
    "    print(\"This print will be executed once at the end.\")"
   ]
  },
  {
   "cell_type": "code",
   "execution_count": 8,
   "id": "8cd45772",
   "metadata": {},
   "outputs": [
    {
     "name": "stdout",
     "output_type": "stream",
     "text": [
      "n = 6\n",
      "0\n",
      "1\n",
      "2\n",
      "3\n"
     ]
    }
   ],
   "source": [
    "# code inside the else will no be executed if while or for loop is finished with a break statement\n",
    "\n",
    "n = int(input(\"n = \"))\n",
    "\n",
    "for i in range(10):\n",
    "    print(i)\n",
    "    if i == 3:\n",
    "        break\n",
    "else:\n",
    "    print(\"This print will be executed once at the end.\")"
   ]
  },
  {
   "cell_type": "code",
   "execution_count": 10,
   "id": "6c78d572",
   "metadata": {},
   "outputs": [
    {
     "name": "stdout",
     "output_type": "stream",
     "text": [
      "n = 7\n",
      "Prime\n"
     ]
    }
   ],
   "source": [
    "n = int(input(\"n = \"))\n",
    "\n",
    "for i in range(2,n):\n",
    "    if n % i == 0:\n",
    "        print(\"Not Prime\")\n",
    "        break\n",
    "else:\n",
    "    print(\"Prime\")"
   ]
  },
  {
   "cell_type": "markdown",
   "id": "7bcc4104",
   "metadata": {},
   "source": [
    "### continue"
   ]
  },
  {
   "cell_type": "code",
   "execution_count": 13,
   "id": "4f0d688f",
   "metadata": {},
   "outputs": [
    {
     "name": "stdout",
     "output_type": "stream",
     "text": [
      "n = 20\n",
      "2\n",
      "4\n",
      "6\n",
      "8\n",
      "10\n",
      "12\n",
      "16\n",
      "18\n",
      "20\n"
     ]
    }
   ],
   "source": [
    "# print all even numbers except multiple of 7\n",
    "\n",
    "n = int(input(\"n = \"))\n",
    "\n",
    "for i in range(2,n+1,2):\n",
    "    if i % 7 == 0:\n",
    "        continue\n",
    "    print(i)"
   ]
  },
  {
   "cell_type": "code",
   "execution_count": 16,
   "id": "babf506c",
   "metadata": {},
   "outputs": [
    {
     "name": "stdout",
     "output_type": "stream",
     "text": [
      "n = 20\n",
      "2\n",
      "4\n",
      "6\n",
      "8\n",
      "10\n",
      "12\n",
      "16\n",
      "18\n",
      "20\n"
     ]
    }
   ],
   "source": [
    "# skip the iteration\n",
    "n = int(input(\"n = \"))\n",
    "\n",
    "i = 2\n",
    "while i <= n:\n",
    "    if i % 7 == 0:\n",
    "        i += 2\n",
    "        continue\n",
    "    print(i)\n",
    "    i += 2"
   ]
  },
  {
   "cell_type": "markdown",
   "id": "b23add93",
   "metadata": {},
   "source": [
    "### pass"
   ]
  },
  {
   "cell_type": "code",
   "execution_count": 17,
   "id": "64c1aeae",
   "metadata": {},
   "outputs": [
    {
     "name": "stdout",
     "output_type": "stream",
     "text": [
      "End\n"
     ]
    }
   ],
   "source": [
    "# if you to write the code block later\n",
    "\n",
    "i = 8\n",
    "if i < 7:\n",
    "    pass\n",
    "print(\"End\")"
   ]
  },
  {
   "cell_type": "code",
   "execution_count": 18,
   "id": "0566a48d",
   "metadata": {},
   "outputs": [
    {
     "name": "stdout",
     "output_type": "stream",
     "text": [
      "End\n"
     ]
    }
   ],
   "source": [
    "for i in range(4):\n",
    "    pass\n",
    "print(\"End\")"
   ]
  },
  {
   "cell_type": "code",
   "execution_count": 21,
   "id": "8210c370",
   "metadata": {},
   "outputs": [
    {
     "name": "stdout",
     "output_type": "stream",
     "text": [
      "4\n",
      "1111\n",
      "000\n",
      "11\n",
      "0\n"
     ]
    }
   ],
   "source": [
    "n = int(input())\n",
    "\n",
    "for i in range(n):\n",
    "    if i % 2 == 0:\n",
    "        print((n-i)*\"1\", end = '')\n",
    "    else:\n",
    "        print((n-i)*\"0\", end = '')\n",
    "    print()"
   ]
  },
  {
   "cell_type": "code",
   "execution_count": 26,
   "id": "fe49ac46",
   "metadata": {},
   "outputs": [
    {
     "name": "stdout",
     "output_type": "stream",
     "text": [
      "4\n",
      "1234\n",
      " 234\n",
      "  34\n",
      "   4\n",
      "  34\n",
      " 234\n",
      "1234\n"
     ]
    }
   ],
   "source": [
    "n = int(input())\n",
    "\n",
    "for i in range(1,n+1):\n",
    "    for j in range(i-1):\n",
    "        print(' ', end = '')\n",
    "    for k in range(i,n+1):\n",
    "        print(k, end = '')\n",
    "    print()\n",
    "\n",
    "for i in range(1,n):\n",
    "    for j in range(n - i - 1):\n",
    "        print(' ', end = '')\n",
    "    for k in range(n - i,n+1):\n",
    "        print(k, end = '')\n",
    "    print()"
   ]
  },
  {
   "cell_type": "code",
   "execution_count": 37,
   "id": "676eb4f0",
   "metadata": {},
   "outputs": [
    {
     "name": "stdout",
     "output_type": "stream",
     "text": [
      "5\n",
      "  *\n",
      " ***\n",
      "*****\n",
      " ***\n",
      "  *\n"
     ]
    }
   ],
   "source": [
    "n = int(input())\n",
    "x = (n // 2) + 1\n",
    "for i in range(1,n+1):\n",
    "    if i <= x:\n",
    "        for j in range(x-i):\n",
    "            print(' ', end = '')\n",
    "        for k in range(i):\n",
    "            print('*', end = '')\n",
    "        for p in range(i-1):\n",
    "            print('*', end = '')\n",
    "    else:\n",
    "        for j in range(i-x):\n",
    "            print(' ', end = '')\n",
    "        for k in range(n-i+1):\n",
    "            print('*', end = '')\n",
    "        for p in range(n-i):\n",
    "            print('*', end = '')\n",
    "    print()"
   ]
  },
  {
   "cell_type": "code",
   "execution_count": 40,
   "id": "6637efd7",
   "metadata": {},
   "outputs": [
    {
     "name": "stdout",
     "output_type": "stream",
     "text": [
      "4\n",
      "1 2 3 4 \n",
      "2 4 6 8 \n",
      "3 6 9 12 \n",
      "4 8 12 16 \n"
     ]
    }
   ],
   "source": [
    "n = int(input())\n",
    "for i in range(1,n+1):\n",
    "        print(i, end = ' ')\n",
    "    print()"
   ]
  },
  {
   "cell_type": "code",
   "execution_count": null,
   "id": "7c1c4eac",
   "metadata": {},
   "outputs": [],
   "source": []
  }
 ],
 "metadata": {
  "kernelspec": {
   "display_name": "Python 3",
   "language": "python",
   "name": "python3"
  },
  "language_info": {
   "codemirror_mode": {
    "name": "ipython",
    "version": 3
   },
   "file_extension": ".py",
   "mimetype": "text/x-python",
   "name": "python",
   "nbconvert_exporter": "python",
   "pygments_lexer": "ipython3",
   "version": "3.8.8"
  }
 },
 "nbformat": 4,
 "nbformat_minor": 5
}
